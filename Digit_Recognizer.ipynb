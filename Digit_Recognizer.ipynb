{
 "cells": [
  {
   "cell_type": "markdown",
   "metadata": {},
   "source": [
    "# Python Codes for Kaggle Contest 'Digit Recognizer'\n",
    "\n",
    "This Notebook is the Python codes for Kaggle contest <a href=\"https://www.kaggle.com/c/digit-recognizer\" target=\"_blank\">Digit Recognizer</a>.\n",
    "\n",
    "* Packages: Numpy, Pandas, Keras (backend: TensorFlow)\n",
    "* Model: Cognitive Neural Network with Drop Outs\n",
    "* Technology: Data Augmentation, Learning Rate Annealing, CPU optimization\n",
    "\n",
    "### Performance at Submission:\n",
    "<img src=\"https://github.com/sherrisherry/Kaggle_Starters/blob/master/images/DigitRec.JPG\"></img>\n",
    "\n",
    "### My References:\n",
    "* https://www.kaggle.com/yassineghouzam/introduction-to-cnn-keras-0-997-top-6\n",
    "* https://www.kaggle.com/toregil/welcome-to-deep-learning-cnn-99\n",
    "\n",
    "### My Improvements:\n",
    "* Changed the structure of the CNN\n",
    "* Adjusted some parameters for the CNN\n",
    "* Removed some redundant codes\n",
    "* Added a checkpointer to save and use the best model\n",
    "\n",
    "### Files in Digit_Recognizer:\n",
    "* prediction.csv: Submission to Kaggle\n",
    "* model.hdf5: Weights of The Model of The Submission\n",
    "* preprocess.R: Preprocessing codes in R\n",
    "* data.zip: data files\n",
    "\n",
    "### Note about Reproducibility:\n",
    "<p>Experiment shows that randomness improves model performance while reduces reproducibility of results. To make results reproducible, remove randomness by removing data augmentation and limiting CPU threads to 1.</p>"
   ]
  },
  {
   "cell_type": "code",
   "execution_count": 1,
   "metadata": {},
   "outputs": [
    {
     "name": "stderr",
     "output_type": "stream",
     "text": [
      "C:\\Users\\Admin\\Anaconda3\\lib\\site-packages\\h5py\\__init__.py:36: FutureWarning: Conversion of the second argument of issubdtype from `float` to `np.floating` is deprecated. In future, it will be treated as `np.float64 == np.dtype(float).type`.\n",
      "  from ._conv import register_converters as _register_converters\n",
      "Using TensorFlow backend.\n"
     ]
    }
   ],
   "source": [
    "import pandas as pd\n",
    "import numpy as np\n",
    "import tensorflow as tf\n",
    "\n",
    "from sklearn.model_selection import train_test_split\n",
    "from sklearn.metrics import confusion_matrix\n",
    "import itertools\n",
    "\n",
    "from keras.utils.np_utils import to_categorical # convert to one-hot-encoding\n",
    "from keras.models import Sequential\n",
    "from keras.layers import Dense, Dropout, Flatten, Conv2D, MaxPool2D\n",
    "from keras.optimizers import Adam\n",
    "from keras.preprocessing.image import ImageDataGenerator\n",
    "from keras.callbacks import ReduceLROnPlateau, ModelCheckpoint"
   ]
  },
  {
   "cell_type": "code",
   "execution_count": 2,
   "metadata": {},
   "outputs": [],
   "source": [
    "# CPU optimization\n",
    "config = tf.ConfigProto()\n",
    "config.intra_op_parallelism_threads = 50 # set to 1 for reproducibility, increase for better performance\n",
    "config.inter_op_parallelism_threads = 50 # set to 1 for reproducibility, increase for better performance\n",
    "_=tf.Session(config=config)\n",
    "\n",
    "# Set the random seed\n",
    "random_seed = None # set to None for maximum randomness\n",
    "np.random.seed(random_seed)"
   ]
  },
  {
   "cell_type": "code",
   "execution_count": 3,
   "metadata": {},
   "outputs": [],
   "source": [
    "train = pd.read_csv(\"Digit_Recognizer/train.csv\")\n",
    "test = pd.read_csv(\"Digit_Recognizer/test.csv\")"
   ]
  },
  {
   "cell_type": "code",
   "execution_count": 4,
   "metadata": {},
   "outputs": [],
   "source": [
    "Y_train = train[\"label\"]\n",
    "\n",
    "# Drop 'label' column\n",
    "X_train = train.drop(labels = [\"label\"],axis = 1) \n",
    "\n",
    "# free some space\n",
    "del train"
   ]
  },
  {
   "cell_type": "markdown",
   "metadata": {},
   "source": [
    "##### checking for missing value"
   ]
  },
  {
   "cell_type": "code",
   "execution_count": 5,
   "metadata": {},
   "outputs": [
    {
     "data": {
      "text/plain": [
       "count       784\n",
       "unique        1\n",
       "top       False\n",
       "freq        784\n",
       "dtype: object"
      ]
     },
     "execution_count": 5,
     "metadata": {},
     "output_type": "execute_result"
    }
   ],
   "source": [
    "X_train.isnull().any().describe()"
   ]
  },
  {
   "cell_type": "code",
   "execution_count": 6,
   "metadata": {},
   "outputs": [
    {
     "data": {
      "text/plain": [
       "count       784\n",
       "unique        1\n",
       "top       False\n",
       "freq        784\n",
       "dtype: object"
      ]
     },
     "execution_count": 6,
     "metadata": {},
     "output_type": "execute_result"
    }
   ],
   "source": [
    "test.isnull().any().describe()"
   ]
  },
  {
   "cell_type": "markdown",
   "metadata": {},
   "source": [
    "##### preparing data for modeling"
   ]
  },
  {
   "cell_type": "code",
   "execution_count": 7,
   "metadata": {},
   "outputs": [],
   "source": [
    "# Normalize the data\n",
    "X_train = X_train / 255.0\n",
    "test = test / 255.0"
   ]
  },
  {
   "cell_type": "code",
   "execution_count": 8,
   "metadata": {},
   "outputs": [],
   "source": [
    "# Reshape image in 3 dimensions (height = 28px, width = 28px , channel = 1)\n",
    "X_train = X_train.values.reshape(-1,28,28,1)\n",
    "test = test.values.reshape(-1,28,28,1)"
   ]
  },
  {
   "cell_type": "code",
   "execution_count": 9,
   "metadata": {},
   "outputs": [],
   "source": [
    "# Encode labels to one hot vectors (ex : 2 -> [0,0,1,0,0,0,0,0,0,0])\n",
    "Y_train = to_categorical(Y_train, num_classes = 10)"
   ]
  },
  {
   "cell_type": "code",
   "execution_count": 10,
   "metadata": {},
   "outputs": [],
   "source": [
    "# Split the train and the validation set for the fitting\n",
    "X_train, X_val, Y_train, Y_val = train_test_split(X_train, Y_train, test_size = 0.05, random_state=random_seed)\n",
    "# I used 5% of the train set as validation"
   ]
  },
  {
   "cell_type": "markdown",
   "metadata": {},
   "source": [
    "##### Building the model"
   ]
  },
  {
   "cell_type": "code",
   "execution_count": 11,
   "metadata": {},
   "outputs": [],
   "source": [
    "# Set the CNN model \n",
    "# my CNN architechture is In -> [Conv2D->relu]*2 -> MaxPool2D -> Dropout\n",
    "# -> Conv2D->relu -> MaxPool2D -> Dropout -> Flatten -> [Dense -> Dropout]*2 -> Out\n",
    "\n",
    "model = Sequential()\n",
    "\n",
    "model.add(Conv2D(filters = 32, kernel_size = (5,5),padding = 'valid', \n",
    "                 activation ='relu', input_shape = (28,28,1)))\n",
    "model.add(Conv2D(filters = 32, kernel_size = (4,4),padding = 'valid', \n",
    "                 activation ='relu', input_shape = (28,28,1)))\n",
    "model.add(MaxPool2D(pool_size=(2,2)))\n",
    "model.add(Dropout(0.25))\n",
    "\n",
    "\n",
    "model.add(Conv2D(filters = 64, kernel_size = (3,3),padding = 'Same', \n",
    "                 activation ='relu'))\n",
    "model.add(MaxPool2D(pool_size=(2,2), strides=(2,2)))\n",
    "model.add(Dropout(0.25))\n",
    "\n",
    "\n",
    "model.add(Flatten())\n",
    "model.add(Dense(256, activation = \"relu\"))\n",
    "model.add(Dropout(0.25))\n",
    "model.add(Dense(512, activation='relu'))\n",
    "model.add(Dropout(0.5))\n",
    "model.add(Dense(10, activation = \"softmax\"))"
   ]
  },
  {
   "cell_type": "code",
   "execution_count": 12,
   "metadata": {},
   "outputs": [],
   "source": [
    "# Define the optimizer\n",
    "optimizer = Adam(lr=0.001, beta_1=0.9, beta_2=0.999, epsilon=1e-08)"
   ]
  },
  {
   "cell_type": "code",
   "execution_count": 13,
   "metadata": {},
   "outputs": [],
   "source": [
    "# Compile the model\n",
    "model.compile(optimizer = optimizer , loss = \"categorical_crossentropy\", metrics=[\"accuracy\"])"
   ]
  },
  {
   "cell_type": "markdown",
   "metadata": {},
   "source": [
    "##### Learning rate annealing"
   ]
  },
  {
   "cell_type": "code",
   "execution_count": 14,
   "metadata": {},
   "outputs": [],
   "source": [
    "# Set a learning rate annealer\n",
    "learning_rate_reduction = ReduceLROnPlateau(monitor='val_acc', \n",
    "                                            patience=3, \n",
    "                                            verbose=1, \n",
    "                                            factor=0.5, \n",
    "                                            min_lr=0.00001)\n",
    "# this annealer reduces learning rate once validation accuracy doesn't improve after 3 epochs"
   ]
  },
  {
   "cell_type": "markdown",
   "metadata": {},
   "source": [
    "##### Setting up a checkpointer\n",
    "<p>According to a <a herf=\"https://github.com/keras-team/keras/issues/2768\" target=\"_blank\">Keras Issue post</a>, Keras returns the model of the last epoch after training, not the best model. To use the best model for prediction, we need a checkpointer to save the best model.</p>"
   ]
  },
  {
   "cell_type": "code",
   "execution_count": 15,
   "metadata": {},
   "outputs": [],
   "source": [
    "# Checkpointer\n",
    "checkpointer = ModelCheckpoint('best_model_weights.hdf5', monitor='val_acc', verbose=1, save_best_only=True, mode='max')\n",
    "# This checkpointer saves the weights of the model that has the highest validation accuracy"
   ]
  },
  {
   "cell_type": "markdown",
   "metadata": {},
   "source": [
    "##### Data Augmentation"
   ]
  },
  {
   "cell_type": "code",
   "execution_count": 16,
   "metadata": {},
   "outputs": [],
   "source": [
    "# With data augmentation to prevent overfitting\n",
    "\n",
    "datagen = ImageDataGenerator(\n",
    "        featurewise_center=False,  # set input mean to 0 over the dataset\n",
    "        samplewise_center=False,  # set each sample mean to 0\n",
    "        featurewise_std_normalization=False,  # divide inputs by std of the dataset\n",
    "        samplewise_std_normalization=False,  # divide each input by its std\n",
    "        zca_whitening=False,  # apply ZCA whitening\n",
    "        rotation_range=10,  # randomly rotate images in the range (degrees, 0 to 180)\n",
    "        zoom_range = 0.1, # Randomly zoom image \n",
    "        width_shift_range=0.1,  # randomly shift images horizontally (fraction of total width)\n",
    "        height_shift_range=0.1,  # randomly shift images vertically (fraction of total height)\n",
    "        horizontal_flip=False,  # randomly flip images\n",
    "        vertical_flip=False)  # randomly flip images\n",
    "\n",
    "\n",
    "datagen.fit(X_train)"
   ]
  },
  {
   "cell_type": "markdown",
   "metadata": {},
   "source": [
    "##### Training the model"
   ]
  },
  {
   "cell_type": "code",
   "execution_count": 17,
   "metadata": {},
   "outputs": [],
   "source": [
    "# set parameters for training\n",
    "epochs = 20\n",
    "batch_size = 106"
   ]
  },
  {
   "cell_type": "code",
   "execution_count": 18,
   "metadata": {},
   "outputs": [
    {
     "name": "stdout",
     "output_type": "stream",
     "text": [
      "Epoch 1/20\n",
      " - 195s - loss: 0.4080 - acc: 0.8671 - val_loss: 0.0612 - val_acc: 0.9800\n",
      "\n",
      "Epoch 00001: val_acc improved from -inf to 0.98001, saving model to best_model_weights.hdf5\n",
      "Epoch 2/20\n",
      " - 220s - loss: 0.1275 - acc: 0.9618 - val_loss: 0.0444 - val_acc: 0.9864\n",
      "\n",
      "Epoch 00002: val_acc improved from 0.98001 to 0.98637, saving model to best_model_weights.hdf5\n",
      "Epoch 3/20\n",
      " - 222s - loss: 0.0972 - acc: 0.9711 - val_loss: 0.0399 - val_acc: 0.9906\n",
      "\n",
      "Epoch 00003: val_acc improved from 0.98637 to 0.99061, saving model to best_model_weights.hdf5\n",
      "Epoch 4/20\n",
      " - 234s - loss: 0.0846 - acc: 0.9750 - val_loss: 0.0355 - val_acc: 0.9909\n",
      "\n",
      "Epoch 00004: val_acc improved from 0.99061 to 0.99091, saving model to best_model_weights.hdf5\n",
      "Epoch 5/20\n",
      " - 258s - loss: 0.0718 - acc: 0.9786 - val_loss: 0.0307 - val_acc: 0.9918\n",
      "\n",
      "Epoch 00005: val_acc improved from 0.99091 to 0.99182, saving model to best_model_weights.hdf5\n",
      "Epoch 6/20\n",
      " - 263s - loss: 0.0668 - acc: 0.9810 - val_loss: 0.0275 - val_acc: 0.9930\n",
      "\n",
      "Epoch 00006: val_acc improved from 0.99182 to 0.99303, saving model to best_model_weights.hdf5\n",
      "Epoch 7/20\n",
      " - 264s - loss: 0.0633 - acc: 0.9814 - val_loss: 0.0296 - val_acc: 0.9918\n",
      "\n",
      "Epoch 00007: val_acc did not improve from 0.99303\n",
      "Epoch 8/20\n",
      " - 248s - loss: 0.0613 - acc: 0.9825 - val_loss: 0.0262 - val_acc: 0.9933\n",
      "\n",
      "Epoch 00008: val_acc improved from 0.99303 to 0.99334, saving model to best_model_weights.hdf5\n",
      "Epoch 9/20\n",
      " - 235s - loss: 0.0570 - acc: 0.9837 - val_loss: 0.0253 - val_acc: 0.9927\n",
      "\n",
      "Epoch 00009: val_acc did not improve from 0.99334\n",
      "Epoch 10/20\n",
      " - 233s - loss: 0.0549 - acc: 0.9836 - val_loss: 0.0290 - val_acc: 0.9915\n",
      "\n",
      "Epoch 00010: val_acc did not improve from 0.99334\n",
      "Epoch 11/20\n",
      " - 230s - loss: 0.0522 - acc: 0.9847 - val_loss: 0.0268 - val_acc: 0.9912\n",
      "\n",
      "Epoch 00011: ReduceLROnPlateau reducing learning rate to 0.0005000000237487257.\n",
      "\n",
      "Epoch 00011: val_acc did not improve from 0.99334\n",
      "Epoch 12/20\n",
      " - 229s - loss: 0.0421 - acc: 0.9877 - val_loss: 0.0235 - val_acc: 0.9927\n",
      "\n",
      "Epoch 00012: val_acc did not improve from 0.99334\n",
      "Epoch 13/20\n",
      " - 230s - loss: 0.0387 - acc: 0.9884 - val_loss: 0.0215 - val_acc: 0.9939\n",
      "\n",
      "Epoch 00013: val_acc improved from 0.99334 to 0.99394, saving model to best_model_weights.hdf5\n",
      "Epoch 14/20\n",
      " - 229s - loss: 0.0365 - acc: 0.9893 - val_loss: 0.0235 - val_acc: 0.9933\n",
      "\n",
      "Epoch 00014: val_acc did not improve from 0.99394\n",
      "Epoch 15/20\n",
      " - 228s - loss: 0.0356 - acc: 0.9894 - val_loss: 0.0214 - val_acc: 0.9945\n",
      "\n",
      "Epoch 00015: val_acc improved from 0.99394 to 0.99455, saving model to best_model_weights.hdf5\n",
      "Epoch 16/20\n",
      " - 227s - loss: 0.0348 - acc: 0.9898 - val_loss: 0.0239 - val_acc: 0.9936\n",
      "\n",
      "Epoch 00016: val_acc did not improve from 0.99455\n",
      "Epoch 17/20\n",
      " - 231s - loss: 0.0334 - acc: 0.9898 - val_loss: 0.0221 - val_acc: 0.9942\n",
      "\n",
      "Epoch 00017: val_acc did not improve from 0.99455\n",
      "Epoch 18/20\n",
      " - 225s - loss: 0.0330 - acc: 0.9903 - val_loss: 0.0192 - val_acc: 0.9945\n",
      "\n",
      "Epoch 00018: ReduceLROnPlateau reducing learning rate to 0.0002500000118743628.\n",
      "\n",
      "Epoch 00018: val_acc did not improve from 0.99455\n",
      "Epoch 19/20\n",
      " - 225s - loss: 0.0298 - acc: 0.9908 - val_loss: 0.0205 - val_acc: 0.9939\n",
      "\n",
      "Epoch 00019: val_acc did not improve from 0.99455\n",
      "Epoch 20/20\n",
      " - 243s - loss: 0.0293 - acc: 0.9916 - val_loss: 0.0184 - val_acc: 0.9958\n",
      "\n",
      "Epoch 00020: val_acc improved from 0.99455 to 0.99576, saving model to best_model_weights.hdf5\n"
     ]
    }
   ],
   "source": [
    "# Fit the model\n",
    "history = model.fit_generator(datagen.flow(X_train,Y_train, batch_size=batch_size),\n",
    "                              epochs = epochs, validation_data = (X_val,Y_val),\n",
    "                              verbose = 2, steps_per_epoch=X_train.shape[0] // batch_size\n",
    "                              , callbacks=[learning_rate_reduction,checkpointer])"
   ]
  },
  {
   "cell_type": "markdown",
   "metadata": {},
   "source": [
    "##### Examing the training process\n",
    "We can see that in general accuracy improved in training."
   ]
  },
  {
   "cell_type": "code",
   "execution_count": 19,
   "metadata": {},
   "outputs": [],
   "source": [
    "import matplotlib.pyplot as plt\n",
    "%matplotlib inline"
   ]
  },
  {
   "cell_type": "code",
   "execution_count": 20,
   "metadata": {
    "scrolled": true
   },
   "outputs": [
    {
     "data": {
      "image/png": "[encoded data removed]",
      "text/plain": [
       "<matplotlib.figure.Figure at 0x1200352e438>"
      ]
     },
     "metadata": {},
     "output_type": "display_data"
    }
   ],
   "source": [
    "# Plot the loss and accuracy curves for training and validation \n",
    "fig, ax = plt.subplots(2,1)\n",
    "ax[0].plot(history.history['loss'], color='b', label=\"Training loss\")\n",
    "ax[0].plot(history.history['val_loss'], color='r', label=\"validation loss\",axes =ax[0])\n",
    "legend = ax[0].legend(loc='best', shadow=True)\n",
    "\n",
    "ax[1].plot(history.history['acc'], color='b', label=\"Training accuracy\")\n",
    "ax[1].plot(history.history['val_acc'], color='r',label=\"Validation accuracy\")\n",
    "legend = ax[1].legend(loc='best', shadow=True)"
   ]
  },
  {
   "cell_type": "markdown",
   "metadata": {},
   "source": [
    "##### Examing model performance"
   ]
  },
  {
   "cell_type": "code",
   "execution_count": 21,
   "metadata": {},
   "outputs": [],
   "source": [
    "# resuming the best weights\n",
    "model.load_weights('best_model_weights.hdf5', by_name=True)"
   ]
  },
  {
   "cell_type": "code",
   "execution_count": 22,
   "metadata": {},
   "outputs": [
    {
     "data": {
      "image/png": "[encoded data removed]",
      "text/plain": [
       "<matplotlib.figure.Figure at 0x1203a501630>"
      ]
     },
     "metadata": {},
     "output_type": "display_data"
    }
   ],
   "source": [
    "# Look at confusion matrix \n",
    "\n",
    "def plot_confusion_matrix(cm, classes,\n",
    "                          normalize=False,\n",
    "                          title='Confusion matrix',\n",
    "                          cmap=plt.cm.Blues):\n",
    "    \"\"\"\n",
    "    This function prints and plots the confusion matrix.\n",
    "    Normalization can be applied by setting `normalize=True`.\n",
    "    \"\"\"\n",
    "    plt.imshow(cm, interpolation='nearest', cmap=cmap)\n",
    "    plt.title(title)\n",
    "    plt.colorbar()\n",
    "    tick_marks = np.arange(len(classes))\n",
    "    plt.xticks(tick_marks, classes, rotation=45)\n",
    "    plt.yticks(tick_marks, classes)\n",
    "\n",
    "    if normalize:\n",
    "        cm = cm.astype('float') / cm.sum(axis=1)[:, np.newaxis]\n",
    "\n",
    "    thresh = cm.max() / 2.\n",
    "    for i, j in itertools.product(range(cm.shape[0]), range(cm.shape[1])):\n",
    "        plt.text(j, i, cm[i, j],\n",
    "                 horizontalalignment=\"center\",\n",
    "                 color=\"white\" if cm[i, j] > thresh else \"black\")\n",
    "\n",
    "    plt.tight_layout()\n",
    "    plt.ylabel('True label')\n",
    "    plt.xlabel('Predicted label')\n",
    "\n",
    "# Predict the values from the validation dataset\n",
    "Y_pred = model.predict(X_val)\n",
    "# Convert predictions classes to one hot vectors \n",
    "Y_pred_classes = np.argmax(Y_pred,axis = 1) \n",
    "# Convert validation observations to one hot vectors\n",
    "Y_true = np.argmax(Y_val,axis = 1) \n",
    "# compute the confusion matrix\n",
    "confusion_mtx = confusion_matrix(Y_true, Y_pred_classes) \n",
    "# plot the confusion matrix\n",
    "plot_confusion_matrix(confusion_mtx, classes = range(10)) "
   ]
  },
  {
   "cell_type": "code",
   "execution_count": 23,
   "metadata": {},
   "outputs": [
    {
     "data": {
      "image/png": "[encoded data removed]",
      "text/plain": [
       "<matplotlib.figure.Figure at 0x120036435c0>"
      ]
     },
     "metadata": {},
     "output_type": "display_data"
    }
   ],
   "source": [
    "# Display some error results \n",
    "\n",
    "# Errors are difference between predicted labels and true labels\n",
    "errors = (Y_pred_classes - Y_true != 0)\n",
    "\n",
    "Y_pred_classes_errors = Y_pred_classes[errors]\n",
    "Y_pred_errors = Y_pred[errors]\n",
    "Y_true_errors = Y_true[errors]\n",
    "X_val_errors = X_val[errors]\n",
    "\n",
    "def display_errors(errors_index,img_errors,pred_errors, obs_errors):\n",
    "    \"\"\" This function shows 6 images with their predicted and real labels\"\"\"\n",
    "    n = 0\n",
    "    nrows = 2\n",
    "    ncols = 3\n",
    "    fig, ax = plt.subplots(nrows,ncols,sharex=True,sharey=True)\n",
    "    for row in range(nrows):\n",
    "        for col in range(ncols):\n",
    "            error = errors_index[n]\n",
    "            ax[row,col].imshow((img_errors[error]).reshape((28,28)),cmap='gray_r')\n",
    "            ax[row,col].set_title(\"Predicted label :{}\\nTrue label :{}\".format(pred_errors[error],obs_errors[error]))\n",
    "            n += 1\n",
    "\n",
    "# Probabilities of the wrong predicted numbers\n",
    "Y_pred_errors_prob = np.max(Y_pred_errors,axis = 1)\n",
    "\n",
    "# Predicted probabilities of the true values in the error set\n",
    "true_prob_errors = np.diagonal(np.take(Y_pred_errors, Y_true_errors, axis=1))\n",
    "\n",
    "# Difference between the probability of the predicted label and the true label\n",
    "delta_pred_true_errors = Y_pred_errors_prob - true_prob_errors\n",
    "\n",
    "# Sorted list of the delta prob errors\n",
    "sorted_dela_errors = np.argsort(delta_pred_true_errors)\n",
    "\n",
    "# Top 6 errors \n",
    "most_important_errors = sorted_dela_errors[-6:]\n",
    "\n",
    "# Show the top 6 errors\n",
    "display_errors(most_important_errors, X_val_errors, Y_pred_classes_errors, Y_true_errors)"
   ]
  },
  {
   "cell_type": "markdown",
   "metadata": {},
   "source": [
    "##### Making prediction and Generating submission"
   ]
  },
  {
   "cell_type": "code",
   "execution_count": 24,
   "metadata": {},
   "outputs": [],
   "source": [
    "# predict results\n",
    "results = model.predict(test)\n",
    "\n",
    "# select the index with the maximum probability\n",
    "results = np.argmax(results,axis = 1)\n",
    "\n",
    "results = pd.Series(results,name=\"Label\")\n",
    "\n",
    "# create submission file\n",
    "submission = pd.concat([pd.Series(range(1,28001),name = \"ImageId\"),results],axis = 1)\n",
    "\n",
    "submission.to_csv(\"cnn_mnist_datagen.csv\",index=False)"
   ]
  }
 ],
 "metadata": {
  "kernelspec": {
   "display_name": "Python 3",
   "language": "python",
   "name": "python3"
  },
  "language_info": {
   "codemirror_mode": {
    "name": "ipython",
    "version": 3
   },
   "file_extension": ".py",
   "mimetype": "text/x-python",
   "name": "python",
   "nbconvert_exporter": "python",
   "pygments_lexer": "ipython3",
   "version": "3.6.4"
  }
 },
 "nbformat": 4,
 "nbformat_minor": 2
}
