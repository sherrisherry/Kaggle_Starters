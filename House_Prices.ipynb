{
 "cells": [
  {
   "cell_type": "markdown",
   "metadata": {},
   "source": [
    "# Python Codes for Kaggle Contest 'House Prices'\n",
    "This Notebook is the Python codes for Kaggle contest <a href=\"https://www.kaggle.com/c/house-prices-advanced-regression-techniques\" target=\"_blank\">House Prices</a>.\n",
    "\n",
    "* Packages: Numpy, Pandas, Sklearn, H2O\n",
    "* Model: Linear Regression with Grid Search\n",
    "* Technology: Adversarial Selection of Validation Data\n",
    "\n",
    "### Performance at Submission:\n",
    "<img src=\"https://github.com/sherrisherry/Kaggle_Starters/blob/master/images/HousePrices.JPG\" />\n",
    "\n",
    "### My Reference:\n",
    "* https://github.com/jphall663/GWU_data_mining/blob/master/03_regression/src/py_part_3_kaggle_starter.ipynb\n",
    "\n",
    "### Summary:\n",
    "* The focus of my work is to improve model performance by data preparation (imputation, binning, encoding, and validation selection).\n",
    "* My model is a simplified version of the model in the reference. I only trained a Linear Regression with Grid Search by the whole train set. There isn't ensembling nor any algorithm to generate predictors.\n",
    "\n",
    "### Files in House_Prices:\n",
    "* prediction.csv: Submission to Kaggle\n",
    "* preprocess.R: Preprocessing codes in R\n",
    "* recipe.txt: The log file of the preprocessing program\n",
    "* data.zip: The folder of data files\n",
    "\n",
    "### The Preprocessed File:\n",
    "* train.csv and test.csv are combined into data.csv\n",
    "* I made sure no leakage between train and test data.\n",
    "* The target variable is 'NA' in the test set.\n",
    "* No missing value in predictors.\n",
    "* Number of categorical predictors are reduced to 23.\n",
    "* Ordinal columns are encoded to sequential integers.\n",
    "* Binary columns are encoded to 0 and 1.\n",
    "* The record of preprocessing is in House_Prices_log.txt."
   ]
  },
  {
   "cell_type": "code",
   "execution_count": 1,
   "metadata": {},
   "outputs": [],
   "source": [
    "from sklearn.naive_bayes import GaussianNB\n",
    "import numpy as np\n",
    "import pandas as pd"
   ]
  },
  {
   "cell_type": "markdown",
   "metadata": {},
   "source": [
    "##### Exploring the dataset"
   ]
  },
  {
   "cell_type": "code",
   "execution_count": 2,
   "metadata": {
    "scrolled": true
   },
   "outputs": [
    {
     "data": {
      "text/html": [
       "<div>\n",
       "<style scoped>\n",
       "    .dataframe tbody tr th:only-of-type {\n",
       "        vertical-align: middle;\n",
       "    }\n",
       "\n",
       "    .dataframe tbody tr th {\n",
       "        vertical-align: top;\n",
       "    }\n",
       "\n",
       "    .dataframe thead th {\n",
       "        text-align: right;\n",
       "    }\n",
       "</style>\n",
       "<table border=\"1\" class=\"dataframe\">\n",
       "  <thead>\n",
       "    <tr style=\"text-align: right;\">\n",
       "      <th></th>\n",
       "      <th>Id</th>\n",
       "      <th>MSZoning</th>\n",
       "      <th>LotFrontage</th>\n",
       "      <th>LotArea</th>\n",
       "      <th>Street</th>\n",
       "      <th>Alley</th>\n",
       "      <th>LotShape</th>\n",
       "      <th>LandContour</th>\n",
       "      <th>Utilities</th>\n",
       "      <th>LotConfig</th>\n",
       "      <th>...</th>\n",
       "      <th>PoolArea</th>\n",
       "      <th>PoolQC</th>\n",
       "      <th>Fence</th>\n",
       "      <th>MiscFeature</th>\n",
       "      <th>MiscVal</th>\n",
       "      <th>MoSold</th>\n",
       "      <th>YrSold</th>\n",
       "      <th>SaleType</th>\n",
       "      <th>SaleCondition</th>\n",
       "      <th>SalePrice</th>\n",
       "    </tr>\n",
       "  </thead>\n",
       "  <tbody>\n",
       "    <tr>\n",
       "      <th>1640</th>\n",
       "      <td>1641</td>\n",
       "      <td>RL</td>\n",
       "      <td>80</td>\n",
       "      <td>11088</td>\n",
       "      <td>1</td>\n",
       "      <td>NoApp</td>\n",
       "      <td>Reg</td>\n",
       "      <td>Lvl</td>\n",
       "      <td>4</td>\n",
       "      <td>Inside</td>\n",
       "      <td>...</td>\n",
       "      <td>0</td>\n",
       "      <td>0</td>\n",
       "      <td>NoApp</td>\n",
       "      <td>NoApp</td>\n",
       "      <td>0</td>\n",
       "      <td>5</td>\n",
       "      <td>2009</td>\n",
       "      <td>WD</td>\n",
       "      <td>Normal</td>\n",
       "      <td>NaN</td>\n",
       "    </tr>\n",
       "    <tr>\n",
       "      <th>1760</th>\n",
       "      <td>1761</td>\n",
       "      <td>RL</td>\n",
       "      <td>115</td>\n",
       "      <td>10500</td>\n",
       "      <td>1</td>\n",
       "      <td>NoApp</td>\n",
       "      <td>IR1</td>\n",
       "      <td>Lvl</td>\n",
       "      <td>4</td>\n",
       "      <td>Inside</td>\n",
       "      <td>...</td>\n",
       "      <td>0</td>\n",
       "      <td>0</td>\n",
       "      <td>NoApp</td>\n",
       "      <td>NoApp</td>\n",
       "      <td>0</td>\n",
       "      <td>7</td>\n",
       "      <td>2009</td>\n",
       "      <td>COD</td>\n",
       "      <td>Abnorml</td>\n",
       "      <td>NaN</td>\n",
       "    </tr>\n",
       "    <tr>\n",
       "      <th>504</th>\n",
       "      <td>505</td>\n",
       "      <td>RL</td>\n",
       "      <td>24</td>\n",
       "      <td>2308</td>\n",
       "      <td>1</td>\n",
       "      <td>NoApp</td>\n",
       "      <td>Reg</td>\n",
       "      <td>Lvl</td>\n",
       "      <td>4</td>\n",
       "      <td>Inside</td>\n",
       "      <td>...</td>\n",
       "      <td>0</td>\n",
       "      <td>0</td>\n",
       "      <td>NoApp</td>\n",
       "      <td>NoApp</td>\n",
       "      <td>0</td>\n",
       "      <td>6</td>\n",
       "      <td>2009</td>\n",
       "      <td>WD</td>\n",
       "      <td>Normal</td>\n",
       "      <td>147000.0</td>\n",
       "    </tr>\n",
       "    <tr>\n",
       "      <th>2495</th>\n",
       "      <td>2496</td>\n",
       "      <td>RL</td>\n",
       "      <td>102</td>\n",
       "      <td>12671</td>\n",
       "      <td>1</td>\n",
       "      <td>NoApp</td>\n",
       "      <td>IR1</td>\n",
       "      <td>Lvl</td>\n",
       "      <td>4</td>\n",
       "      <td>Corner</td>\n",
       "      <td>...</td>\n",
       "      <td>0</td>\n",
       "      <td>0</td>\n",
       "      <td>NoApp</td>\n",
       "      <td>NoApp</td>\n",
       "      <td>0</td>\n",
       "      <td>7</td>\n",
       "      <td>2007</td>\n",
       "      <td>WD</td>\n",
       "      <td>Normal</td>\n",
       "      <td>NaN</td>\n",
       "    </tr>\n",
       "    <tr>\n",
       "      <th>1789</th>\n",
       "      <td>1790</td>\n",
       "      <td>RL</td>\n",
       "      <td>60</td>\n",
       "      <td>10800</td>\n",
       "      <td>1</td>\n",
       "      <td>Grvl</td>\n",
       "      <td>Reg</td>\n",
       "      <td>Lvl</td>\n",
       "      <td>4</td>\n",
       "      <td>Corner</td>\n",
       "      <td>...</td>\n",
       "      <td>0</td>\n",
       "      <td>0</td>\n",
       "      <td>NoApp</td>\n",
       "      <td>NoApp</td>\n",
       "      <td>0</td>\n",
       "      <td>11</td>\n",
       "      <td>2009</td>\n",
       "      <td>WD</td>\n",
       "      <td>Normal</td>\n",
       "      <td>NaN</td>\n",
       "    </tr>\n",
       "  </tbody>\n",
       "</table>\n",
       "<p>5 rows × 80 columns</p>\n",
       "</div>"
      ],
      "text/plain": [
       "        Id MSZoning  LotFrontage  LotArea  Street  Alley LotShape LandContour  \\\n",
       "1640  1641       RL           80    11088       1  NoApp      Reg         Lvl   \n",
       "1760  1761       RL          115    10500       1  NoApp      IR1         Lvl   \n",
       "504    505       RL           24     2308       1  NoApp      Reg         Lvl   \n",
       "2495  2496       RL          102    12671       1  NoApp      IR1         Lvl   \n",
       "1789  1790       RL           60    10800       1   Grvl      Reg         Lvl   \n",
       "\n",
       "      Utilities LotConfig    ...      PoolArea PoolQC  Fence MiscFeature  \\\n",
       "1640          4    Inside    ...             0      0  NoApp       NoApp   \n",
       "1760          4    Inside    ...             0      0  NoApp       NoApp   \n",
       "504           4    Inside    ...             0      0  NoApp       NoApp   \n",
       "2495          4    Corner    ...             0      0  NoApp       NoApp   \n",
       "1789          4    Corner    ...             0      0  NoApp       NoApp   \n",
       "\n",
       "     MiscVal MoSold  YrSold  SaleType  SaleCondition  SalePrice  \n",
       "1640       0      5    2009        WD         Normal        NaN  \n",
       "1760       0      7    2009       COD        Abnorml        NaN  \n",
       "504        0      6    2009        WD         Normal   147000.0  \n",
       "2495       0      7    2007        WD         Normal        NaN  \n",
       "1789       0     11    2009        WD         Normal        NaN  \n",
       "\n",
       "[5 rows x 80 columns]"
      ]
     },
     "execution_count": 2,
     "metadata": {},
     "output_type": "execute_result"
    }
   ],
   "source": [
    "data=pd.read_csv('House_Prices/data.csv')\n",
    "data.sample(5)"
   ]
  },
  {
   "cell_type": "code",
   "execution_count": 3,
   "metadata": {},
   "outputs": [
    {
     "data": {
      "text/plain": [
       "SalePrice        1459\n",
       "SaleCondition       0\n",
       "RoofMatl            0\n",
       "Exterior1st         0\n",
       "Exterior2nd         0\n",
       "dtype: int64"
      ]
     },
     "execution_count": 3,
     "metadata": {},
     "output_type": "execute_result"
    }
   ],
   "source": [
    "data.isnull().sum().sort_values(ascending=False).head(5) # check missing values"
   ]
  },
  {
   "cell_type": "code",
   "execution_count": 4,
   "metadata": {},
   "outputs": [
    {
     "name": "stdout",
     "output_type": "stream",
     "text": [
      "['MSZoning', 'Alley', 'LotShape', 'LandContour', 'LotConfig', 'Neighborhood', 'Condition1', 'Condition2', 'BldgType', 'HouseStyle', 'RoofStyle', 'RoofMatl', 'Exterior1st', 'Exterior2nd', 'MasVnrType', 'Foundation', 'Heating', 'Electrical', 'GarageType', 'Fence', 'MiscFeature', 'SaleType', 'SaleCondition']\n",
      "['Id', 'LotFrontage', 'LotArea', 'Street', 'Utilities', 'LandSlope', 'OverallQual', 'OverallCond', 'YearBuilt', 'YearRemodAdd', 'MasVnrArea', 'ExterQual', 'ExterCond', 'BsmtQual', 'BsmtCond', 'BsmtExposure', 'BsmtFinType1', 'BsmtFinSF1', 'BsmtFinType2', 'BsmtFinSF2', 'BsmtUnfSF', 'TotalBsmtSF', 'HeatingQC', 'CentralAir', 'X1stFlrSF', 'X2ndFlrSF', 'LowQualFinSF', 'GrLivArea', 'BsmtFullBath', 'BsmtHalfBath', 'FullBath', 'HalfBath', 'BedroomAbvGr', 'KitchenAbvGr', 'KitchenQual', 'TotRmsAbvGrd', 'Functional', 'Fireplaces', 'FireplaceQu', 'GarageYrBlt', 'GarageFinish', 'GarageCars', 'GarageArea', 'GarageQual', 'GarageCond', 'PavedDrive', 'WoodDeckSF', 'OpenPorchSF', 'EnclosedPorch', 'X3SsnPorch', 'ScreenPorch', 'PoolArea', 'PoolQC', 'MiscVal', 'MoSold', 'YrSold', 'SalePrice']\n"
     ]
    }
   ],
   "source": [
    "# find numerical columns and categorical columns\n",
    "num,cat=[],[]\n",
    "for i in data.columns:\n",
    "    if data[i].dtype=='O':\n",
    "        cat.append(i)\n",
    "    else: num.append(i)\n",
    "print(cat)\n",
    "print(num)"
   ]
  },
  {
   "cell_type": "markdown",
   "metadata": {},
   "source": [
    "##### One hot encoding categorical columns to replace original columns"
   ]
  },
  {
   "cell_type": "code",
   "execution_count": 5,
   "metadata": {},
   "outputs": [
    {
     "data": {
      "text/html": [
       "<div>\n",
       "<style scoped>\n",
       "    .dataframe tbody tr th:only-of-type {\n",
       "        vertical-align: middle;\n",
       "    }\n",
       "\n",
       "    .dataframe tbody tr th {\n",
       "        vertical-align: top;\n",
       "    }\n",
       "\n",
       "    .dataframe thead th {\n",
       "        text-align: right;\n",
       "    }\n",
       "</style>\n",
       "<table border=\"1\" class=\"dataframe\">\n",
       "  <thead>\n",
       "    <tr style=\"text-align: right;\">\n",
       "      <th></th>\n",
       "      <th>MSZoning_C (all)</th>\n",
       "      <th>MSZoning_FV</th>\n",
       "      <th>MSZoning_RH</th>\n",
       "      <th>MSZoning_RL</th>\n",
       "      <th>MSZoning_RM</th>\n",
       "      <th>Alley_Grvl</th>\n",
       "      <th>Alley_NoApp</th>\n",
       "      <th>Alley_Pave</th>\n",
       "      <th>LotShape_IR1</th>\n",
       "      <th>LotShape_IR2</th>\n",
       "      <th>...</th>\n",
       "      <th>SaleType_ConLw</th>\n",
       "      <th>SaleType_New</th>\n",
       "      <th>SaleType_Oth</th>\n",
       "      <th>SaleType_WD</th>\n",
       "      <th>SaleCondition_Abnorml</th>\n",
       "      <th>SaleCondition_AdjLand</th>\n",
       "      <th>SaleCondition_Alloca</th>\n",
       "      <th>SaleCondition_Family</th>\n",
       "      <th>SaleCondition_Normal</th>\n",
       "      <th>SaleCondition_Partial</th>\n",
       "    </tr>\n",
       "  </thead>\n",
       "  <tbody>\n",
       "    <tr>\n",
       "      <th>0</th>\n",
       "      <td>0</td>\n",
       "      <td>0</td>\n",
       "      <td>0</td>\n",
       "      <td>1</td>\n",
       "      <td>0</td>\n",
       "      <td>0</td>\n",
       "      <td>1</td>\n",
       "      <td>0</td>\n",
       "      <td>0</td>\n",
       "      <td>0</td>\n",
       "      <td>...</td>\n",
       "      <td>0</td>\n",
       "      <td>0</td>\n",
       "      <td>0</td>\n",
       "      <td>1</td>\n",
       "      <td>0</td>\n",
       "      <td>0</td>\n",
       "      <td>0</td>\n",
       "      <td>0</td>\n",
       "      <td>1</td>\n",
       "      <td>0</td>\n",
       "    </tr>\n",
       "    <tr>\n",
       "      <th>1</th>\n",
       "      <td>0</td>\n",
       "      <td>0</td>\n",
       "      <td>0</td>\n",
       "      <td>1</td>\n",
       "      <td>0</td>\n",
       "      <td>0</td>\n",
       "      <td>1</td>\n",
       "      <td>0</td>\n",
       "      <td>0</td>\n",
       "      <td>0</td>\n",
       "      <td>...</td>\n",
       "      <td>0</td>\n",
       "      <td>0</td>\n",
       "      <td>0</td>\n",
       "      <td>1</td>\n",
       "      <td>0</td>\n",
       "      <td>0</td>\n",
       "      <td>0</td>\n",
       "      <td>0</td>\n",
       "      <td>1</td>\n",
       "      <td>0</td>\n",
       "    </tr>\n",
       "    <tr>\n",
       "      <th>2</th>\n",
       "      <td>0</td>\n",
       "      <td>0</td>\n",
       "      <td>0</td>\n",
       "      <td>1</td>\n",
       "      <td>0</td>\n",
       "      <td>0</td>\n",
       "      <td>1</td>\n",
       "      <td>0</td>\n",
       "      <td>1</td>\n",
       "      <td>0</td>\n",
       "      <td>...</td>\n",
       "      <td>0</td>\n",
       "      <td>0</td>\n",
       "      <td>0</td>\n",
       "      <td>1</td>\n",
       "      <td>0</td>\n",
       "      <td>0</td>\n",
       "      <td>0</td>\n",
       "      <td>0</td>\n",
       "      <td>1</td>\n",
       "      <td>0</td>\n",
       "    </tr>\n",
       "  </tbody>\n",
       "</table>\n",
       "<p>3 rows × 174 columns</p>\n",
       "</div>"
      ],
      "text/plain": [
       "   MSZoning_C (all)  MSZoning_FV  MSZoning_RH  MSZoning_RL  MSZoning_RM  \\\n",
       "0                 0            0            0            1            0   \n",
       "1                 0            0            0            1            0   \n",
       "2                 0            0            0            1            0   \n",
       "\n",
       "   Alley_Grvl  Alley_NoApp  Alley_Pave  LotShape_IR1  LotShape_IR2  \\\n",
       "0           0            1           0             0             0   \n",
       "1           0            1           0             0             0   \n",
       "2           0            1           0             1             0   \n",
       "\n",
       "           ...            SaleType_ConLw  SaleType_New  SaleType_Oth  \\\n",
       "0          ...                         0             0             0   \n",
       "1          ...                         0             0             0   \n",
       "2          ...                         0             0             0   \n",
       "\n",
       "   SaleType_WD  SaleCondition_Abnorml  SaleCondition_AdjLand  \\\n",
       "0            1                      0                      0   \n",
       "1            1                      0                      0   \n",
       "2            1                      0                      0   \n",
       "\n",
       "   SaleCondition_Alloca  SaleCondition_Family  SaleCondition_Normal  \\\n",
       "0                     0                     0                     1   \n",
       "1                     0                     0                     1   \n",
       "2                     0                     0                     1   \n",
       "\n",
       "   SaleCondition_Partial  \n",
       "0                      0  \n",
       "1                      0  \n",
       "2                      0  \n",
       "\n",
       "[3 rows x 174 columns]"
      ]
     },
     "execution_count": 5,
     "metadata": {},
     "output_type": "execute_result"
    }
   ],
   "source": [
    "data_dummies = pd.get_dummies(data[cat])\n",
    "data_dummies.head(3)"
   ]
  },
  {
   "cell_type": "code",
   "execution_count": 6,
   "metadata": {},
   "outputs": [
    {
     "data": {
      "text/plain": [
       "(2919, 231)"
      ]
     },
     "execution_count": 6,
     "metadata": {},
     "output_type": "execute_result"
    }
   ],
   "source": [
    "data=pd.concat([data.drop(cat,axis=1),data_dummies],axis=1)\n",
    "data.shape"
   ]
  },
  {
   "cell_type": "markdown",
   "metadata": {},
   "source": [
    "##### Adversarial Selection of Validation Data\n",
    "Gaussian Naive Bayes isn't a perfect solution but I used it to score my data because it is fast and works with all the predictors."
   ]
  },
  {
   "cell_type": "code",
   "execution_count": 7,
   "metadata": {},
   "outputs": [
    {
     "name": "stdout",
     "output_type": "stream",
     "text": [
      "(2919, 232)\n"
     ]
    },
    {
     "data": {
      "text/plain": [
       "split    1459\n",
       "dtype: int64"
      ]
     },
     "execution_count": 7,
     "metadata": {},
     "output_type": "execute_result"
    }
   ],
   "source": [
    "data['split']=0\n",
    "print(data.shape)\n",
    "data.loc[data.SalePrice.isnull(),'split']=1\n",
    "data[['split']].sum()"
   ]
  },
  {
   "cell_type": "code",
   "execution_count": 8,
   "metadata": {},
   "outputs": [
    {
     "data": {
      "text/html": [
       "<div>\n",
       "<style scoped>\n",
       "    .dataframe tbody tr th:only-of-type {\n",
       "        vertical-align: middle;\n",
       "    }\n",
       "\n",
       "    .dataframe tbody tr th {\n",
       "        vertical-align: top;\n",
       "    }\n",
       "\n",
       "    .dataframe thead th {\n",
       "        text-align: right;\n",
       "    }\n",
       "</style>\n",
       "<table border=\"1\" class=\"dataframe\">\n",
       "  <thead>\n",
       "    <tr style=\"text-align: right;\">\n",
       "      <th></th>\n",
       "      <th>0</th>\n",
       "      <th>1</th>\n",
       "    </tr>\n",
       "  </thead>\n",
       "  <tbody>\n",
       "    <tr>\n",
       "      <th>count</th>\n",
       "      <td>1.460000e+03</td>\n",
       "      <td>1.460000e+03</td>\n",
       "    </tr>\n",
       "    <tr>\n",
       "      <th>mean</th>\n",
       "      <td>3.152857e-01</td>\n",
       "      <td>6.847143e-01</td>\n",
       "    </tr>\n",
       "    <tr>\n",
       "      <th>std</th>\n",
       "      <td>2.564746e-01</td>\n",
       "      <td>2.564746e-01</td>\n",
       "    </tr>\n",
       "    <tr>\n",
       "      <th>min</th>\n",
       "      <td>7.030208e-82</td>\n",
       "      <td>3.669150e-285</td>\n",
       "    </tr>\n",
       "    <tr>\n",
       "      <th>25%</th>\n",
       "      <td>1.331135e-01</td>\n",
       "      <td>5.797349e-01</td>\n",
       "    </tr>\n",
       "    <tr>\n",
       "      <th>50%</th>\n",
       "      <td>2.463090e-01</td>\n",
       "      <td>7.536910e-01</td>\n",
       "    </tr>\n",
       "    <tr>\n",
       "      <th>75%</th>\n",
       "      <td>4.202651e-01</td>\n",
       "      <td>8.668865e-01</td>\n",
       "    </tr>\n",
       "    <tr>\n",
       "      <th>max</th>\n",
       "      <td>1.000000e+00</td>\n",
       "      <td>1.000000e+00</td>\n",
       "    </tr>\n",
       "  </tbody>\n",
       "</table>\n",
       "</div>"
      ],
      "text/plain": [
       "                  0              1\n",
       "count  1.460000e+03   1.460000e+03\n",
       "mean   3.152857e-01   6.847143e-01\n",
       "std    2.564746e-01   2.564746e-01\n",
       "min    7.030208e-82  3.669150e-285\n",
       "25%    1.331135e-01   5.797349e-01\n",
       "50%    2.463090e-01   7.536910e-01\n",
       "75%    4.202651e-01   8.668865e-01\n",
       "max    1.000000e+00   1.000000e+00"
      ]
     },
     "execution_count": 8,
     "metadata": {},
     "output_type": "execute_result"
    }
   ],
   "source": [
    "gnb = GaussianNB()\n",
    "gnb.fit(data.drop(['Id','split','SalePrice'],axis=1), data['split'])\n",
    "scores = gnb.predict_proba(data.loc[data.split==0].drop(['Id','split','SalePrice'],axis=1))\n",
    "scores=pd.DataFrame(scores)\n",
    "scores.describe()"
   ]
  },
  {
   "cell_type": "code",
   "execution_count": 9,
   "metadata": {},
   "outputs": [
    {
     "data": {
      "text/plain": [
       "count    1460.000000\n",
       "mean        0.200000\n",
       "std         0.400137\n",
       "min         0.000000\n",
       "25%         0.000000\n",
       "50%         0.000000\n",
       "75%         0.000000\n",
       "max         1.000000\n",
       "Name: split, dtype: float64"
      ]
     },
     "execution_count": 9,
     "metadata": {},
     "output_type": "execute_result"
    }
   ],
   "source": [
    "scores['split']=0\n",
    "scores.loc[scores.iloc[:,1]>=scores.iloc[:,1].quantile(.8),'split']=1\n",
    "scores.split.describe()"
   ]
  },
  {
   "cell_type": "code",
   "execution_count": 10,
   "metadata": {},
   "outputs": [
    {
     "data": {
      "text/plain": [
       "(1751,)"
      ]
     },
     "execution_count": 10,
     "metadata": {},
     "output_type": "execute_result"
    }
   ],
   "source": [
    "data.loc[data.split==0,'split']=scores.split.tolist()\n",
    "data.loc[data.split==1,'split'].shape"
   ]
  },
  {
   "cell_type": "code",
   "execution_count": 11,
   "metadata": {},
   "outputs": [
    {
     "name": "stdout",
     "output_type": "stream",
     "text": [
      "test: (1459, 230) validation: (292, 231) train: (1168, 231)\n"
     ]
    }
   ],
   "source": [
    "test=data[data.SalePrice.isnull()].drop(['split','SalePrice'],axis=1)\n",
    "data=data[data.SalePrice.isnull()==False]\n",
    "valid, train=data[data.split==1].drop('split',axis=1), data[data.split==0].drop('split',axis=1)\n",
    "print('test: '+ str(test.shape) +' '+ 'validation: ' + str(valid.shape) +' '+ 'train: ' + str(train.shape))"
   ]
  },
  {
   "cell_type": "markdown",
   "metadata": {},
   "source": [
    "##### Modeling\n",
    "I only trained a Linear Regression with Grid Search by the whole train set. There isn't ensembling nor any algorithm to generate predictors."
   ]
  },
  {
   "cell_type": "code",
   "execution_count": 12,
   "metadata": {},
   "outputs": [
    {
     "name": "stdout",
     "output_type": "stream",
     "text": [
      "Checking whether there is an H2O instance running at http://localhost:54321..... not found.\n",
      "Attempting to start a local H2O server...\n",
      "; OpenJDK 64-Bit Server VM (Zulu 8.20.0.5-win64) (build 25.121-b15, mixed mode)\n",
      "  Starting server from C:\\Users\\Admin\\Anaconda3\\h2o_jar\\h2o.jar\n",
      "  Ice root: E:\\Caches\\Temp\\tmpg9y45a91\n",
      "  JVM stdout: E:\\Caches\\Temp\\tmpg9y45a91\\h2o_Admin_started_from_python.out\n",
      "  JVM stderr: E:\\Caches\\Temp\\tmpg9y45a91\\h2o_Admin_started_from_python.err\n",
      "  Server is running at http://127.0.0.1:54321\n",
      "Connecting to H2O server at http://127.0.0.1:54321... successful.\n",
      "Warning: Your H2O cluster version is too old (3 months and 21 days)! Please download and install the latest version from http://h2o.ai/download/\n"
     ]
    },
    {
     "data": {
      "text/html": [
       "<div style=\"overflow:auto\"><table style=\"width:50%\"><tr><td>H2O cluster uptime:</td>\n",
       "<td>02 secs</td></tr>\n",
       "<tr><td>H2O cluster timezone:</td>\n",
       "<td>America/New_York</td></tr>\n",
       "<tr><td>H2O data parsing timezone:</td>\n",
       "<td>UTC</td></tr>\n",
       "<tr><td>H2O cluster version:</td>\n",
       "<td>3.18.0.2</td></tr>\n",
       "<tr><td>H2O cluster version age:</td>\n",
       "<td>3 months and 21 days !!!</td></tr>\n",
       "<tr><td>H2O cluster name:</td>\n",
       "<td>H2O_from_python_Admin_hor3tm</td></tr>\n",
       "<tr><td>H2O cluster total nodes:</td>\n",
       "<td>1</td></tr>\n",
       "<tr><td>H2O cluster free memory:</td>\n",
       "<td>10.67 Gb</td></tr>\n",
       "<tr><td>H2O cluster total cores:</td>\n",
       "<td>4</td></tr>\n",
       "<tr><td>H2O cluster allowed cores:</td>\n",
       "<td>4</td></tr>\n",
       "<tr><td>H2O cluster status:</td>\n",
       "<td>accepting new members, healthy</td></tr>\n",
       "<tr><td>H2O connection url:</td>\n",
       "<td>http://127.0.0.1:54321</td></tr>\n",
       "<tr><td>H2O connection proxy:</td>\n",
       "<td>None</td></tr>\n",
       "<tr><td>H2O internal security:</td>\n",
       "<td>False</td></tr>\n",
       "<tr><td>H2O API Extensions:</td>\n",
       "<td>Algos, AutoML, Core V3, Core V4</td></tr>\n",
       "<tr><td>Python version:</td>\n",
       "<td>3.6.4 final</td></tr></table></div>"
      ],
      "text/plain": [
       "--------------------------  -------------------------------\n",
       "H2O cluster uptime:         02 secs\n",
       "H2O cluster timezone:       America/New_York\n",
       "H2O data parsing timezone:  UTC\n",
       "H2O cluster version:        3.18.0.2\n",
       "H2O cluster version age:    3 months and 21 days !!!\n",
       "H2O cluster name:           H2O_from_python_Admin_hor3tm\n",
       "H2O cluster total nodes:    1\n",
       "H2O cluster free memory:    10.67 Gb\n",
       "H2O cluster total cores:    4\n",
       "H2O cluster allowed cores:  4\n",
       "H2O cluster status:         accepting new members, healthy\n",
       "H2O connection url:         http://127.0.0.1:54321\n",
       "H2O connection proxy:\n",
       "H2O internal security:      False\n",
       "H2O API Extensions:         Algos, AutoML, Core V3, Core V4\n",
       "Python version:             3.6.4 final\n",
       "--------------------------  -------------------------------"
      ]
     },
     "metadata": {},
     "output_type": "display_data"
    }
   ],
   "source": [
    "import h2o\n",
    "from h2o.estimators.glm import H2OGeneralizedLinearEstimator\n",
    "from h2o.estimators.glrm import H2OGeneralizedLowRankEstimator\n",
    "from h2o.grid.grid_search import H2OGridSearch \n",
    "h2o.init(max_mem_size='12G') # give h2o as much memory as possible\n",
    "h2o.no_progress() # turn off h2o progress bars\n",
    "\n",
    "import matplotlib as plt\n",
    "%matplotlib inline\n",
    "\n",
    "h2o.show_progress() # turn on progress bars"
   ]
  },
  {
   "cell_type": "code",
   "execution_count": 13,
   "metadata": {},
   "outputs": [
    {
     "data": {
      "image/png": "[encoded data removed]",
      "text/plain": [
       "<matplotlib.figure.Figure at 0x18fad8fa940>"
      ]
     },
     "metadata": {},
     "output_type": "display_data"
    }
   ],
   "source": [
    "# Check log transform - looks good\n",
    "train['SalePrice'].apply(np.log).hist()\n",
    "# Execute log transform\n",
    "train['SalePrice'] = train['SalePrice'].apply(np.log)\n",
    "valid['SalePrice'] = valid['SalePrice'].apply(np.log)"
   ]
  },
  {
   "cell_type": "code",
   "execution_count": 14,
   "metadata": {},
   "outputs": [
    {
     "name": "stdout",
     "output_type": "stream",
     "text": [
      "0    12.247694\n",
      "1    12.109011\n",
      "2    12.317167\n",
      "Name: SalePrice, dtype: float64\n"
     ]
    }
   ],
   "source": [
    "print(train.loc[0:3, 'SalePrice'])"
   ]
  },
  {
   "cell_type": "code",
   "execution_count": 15,
   "metadata": {},
   "outputs": [],
   "source": [
    "# Define model with grid search function\n",
    "\n",
    "def glm_grid(X, y, train, valid):\n",
    "    \n",
    "    \"\"\" Wrapper function for penalized GLM with alpha and lambda search.\n",
    "    \n",
    "    :param X: List of inputs.\n",
    "    :param y: Name of target variable.\n",
    "    :param train: Name of training H2OFrame.\n",
    "    :param valid: Name of validation H2OFrame.\n",
    "    :return: Best H2Omodel from H2OGeneralizedLinearEstimator\n",
    "\n",
    "    \"\"\"\n",
    "    \n",
    "    alpha_opts = [0.01, 0.25, 0.5, 0.75, 0.99] # always keep some L2\n",
    "    hyper_parameters = {'alpha': alpha_opts}\n",
    "\n",
    "    # initialize grid search\n",
    "    grid = H2OGridSearch(\n",
    "        H2OGeneralizedLinearEstimator(\n",
    "            family=\"gaussian\",\n",
    "            lambda_search=True,\n",
    "            seed=12345),\n",
    "        hyper_params=hyper_parameters)\n",
    "    \n",
    "    # train grid\n",
    "    grid.train(y=y,\n",
    "               x=X, \n",
    "               training_frame=train,\n",
    "               validation_frame=valid)\n",
    "\n",
    "    # show grid search results\n",
    "    print(grid.show())\n",
    "\n",
    "    best = grid.get_grid()[0]\n",
    "    print(best)\n",
    "    \n",
    "    # plot top frame values\n",
    "    yhat_frame = valid.cbind(best.predict(valid))\n",
    "    print(yhat_frame[0:10, [y, 'predict']])\n",
    "\n",
    "    # plot sorted predictions\n",
    "    yhat_frame_df = yhat_frame[[y, 'predict']].as_data_frame()\n",
    "    yhat_frame_df.sort_values(by='predict', inplace=True)\n",
    "    yhat_frame_df.reset_index(inplace=True, drop=True)\n",
    "    _ = yhat_frame_df.plot(title='Ranked Predictions Plot')\n",
    "    \n",
    "    # select best model\n",
    "    return best"
   ]
  },
  {
   "cell_type": "code",
   "execution_count": 16,
   "metadata": {},
   "outputs": [],
   "source": [
    "# Function to generate submission file\n",
    "\n",
    "import re\n",
    "import time\n",
    "\n",
    "def gen_submission(model, test=test):\n",
    "\n",
    "    \"\"\" Generates submission file for Kaggle House Prices contest.\n",
    "    \n",
    "    :param model: Model with which to score test data.\n",
    "    :param test: Test data.\n",
    "    \n",
    "    \"\"\"\n",
    "    \n",
    "    # create time stamp\n",
    "    time_stamp = re.sub('[: ]', '_', time.asctime())\n",
    "\n",
    "    # create predictions column\n",
    "    sub = test['Id'].cbind(model.predict(test).exp())\n",
    "    sub.columns = ['Id', 'SalePrice']\n",
    "    \n",
    "    # save file for submission\n",
    "    sub_fname = 'data/submission_' + str(time_stamp) + '.csv'\n",
    "    h2o.download_csv(sub, sub_fname)"
   ]
  },
  {
   "cell_type": "code",
   "execution_count": 17,
   "metadata": {},
   "outputs": [
    {
     "name": "stdout",
     "output_type": "stream",
     "text": [
      "Parse progress: |█████████████████████████████████████████████████████████| 100%\n"
     ]
    },
    {
     "data": {
      "text/html": [
       "<table>\n",
       "<thead>\n",
       "<tr><th style=\"text-align: right;\">  Id</th><th style=\"text-align: right;\">  LotFrontage</th><th style=\"text-align: right;\">  LotArea</th><th style=\"text-align: right;\">  Street</th><th style=\"text-align: right;\">  Utilities</th><th style=\"text-align: right;\">  LandSlope</th><th style=\"text-align: right;\">  OverallQual</th><th style=\"text-align: right;\">  OverallCond</th><th style=\"text-align: right;\">  YearBuilt</th><th style=\"text-align: right;\">  YearRemodAdd</th><th style=\"text-align: right;\">  MasVnrArea</th><th style=\"text-align: right;\">  ExterQual</th><th style=\"text-align: right;\">  ExterCond</th><th style=\"text-align: right;\">  BsmtQual</th><th style=\"text-align: right;\">  BsmtCond</th><th style=\"text-align: right;\">  BsmtExposure</th><th style=\"text-align: right;\">  BsmtFinType1</th><th style=\"text-align: right;\">  BsmtFinSF1</th><th style=\"text-align: right;\">  BsmtFinType2</th><th style=\"text-align: right;\">  BsmtFinSF2</th><th style=\"text-align: right;\">  BsmtUnfSF</th><th style=\"text-align: right;\">  TotalBsmtSF</th><th style=\"text-align: right;\">  HeatingQC</th><th style=\"text-align: right;\">  CentralAir</th><th style=\"text-align: right;\">  X1stFlrSF</th><th style=\"text-align: right;\">  X2ndFlrSF</th><th style=\"text-align: right;\">  LowQualFinSF</th><th style=\"text-align: right;\">  GrLivArea</th><th style=\"text-align: right;\">  BsmtFullBath</th><th style=\"text-align: right;\">  BsmtHalfBath</th><th style=\"text-align: right;\">  FullBath</th><th style=\"text-align: right;\">  HalfBath</th><th style=\"text-align: right;\">  BedroomAbvGr</th><th style=\"text-align: right;\">  KitchenAbvGr</th><th style=\"text-align: right;\">  KitchenQual</th><th style=\"text-align: right;\">  TotRmsAbvGrd</th><th style=\"text-align: right;\">  Functional</th><th style=\"text-align: right;\">  Fireplaces</th><th style=\"text-align: right;\">  FireplaceQu</th><th style=\"text-align: right;\">  GarageYrBlt</th><th style=\"text-align: right;\">  GarageFinish</th><th style=\"text-align: right;\">  GarageCars</th><th style=\"text-align: right;\">  GarageArea</th><th style=\"text-align: right;\">  GarageQual</th><th style=\"text-align: right;\">  GarageCond</th><th style=\"text-align: right;\">  PavedDrive</th><th style=\"text-align: right;\">  WoodDeckSF</th><th style=\"text-align: right;\">  OpenPorchSF</th><th style=\"text-align: right;\">  EnclosedPorch</th><th style=\"text-align: right;\">  X3SsnPorch</th><th style=\"text-align: right;\">  ScreenPorch</th><th style=\"text-align: right;\">  PoolArea</th><th style=\"text-align: right;\">  PoolQC</th><th style=\"text-align: right;\">  MiscVal</th><th style=\"text-align: right;\">  MoSold</th><th style=\"text-align: right;\">  YrSold</th><th style=\"text-align: right;\">  SalePrice</th><th style=\"text-align: right;\">  MSZoning_C (all)</th><th style=\"text-align: right;\">  MSZoning_FV</th><th style=\"text-align: right;\">  MSZoning_RH</th><th style=\"text-align: right;\">  MSZoning_RL</th><th style=\"text-align: right;\">  MSZoning_RM</th><th style=\"text-align: right;\">  Alley_Grvl</th><th style=\"text-align: right;\">  Alley_NoApp</th><th style=\"text-align: right;\">  Alley_Pave</th><th style=\"text-align: right;\">  LotShape_IR1</th><th style=\"text-align: right;\">  LotShape_IR2</th><th style=\"text-align: right;\">  LotShape_IR3</th><th style=\"text-align: right;\">  LotShape_Reg</th><th style=\"text-align: right;\">  LandContour_Bnk</th><th style=\"text-align: right;\">  LandContour_HLS</th><th style=\"text-align: right;\">  LandContour_Low</th><th style=\"text-align: right;\">  LandContour_Lvl</th><th style=\"text-align: right;\">  LotConfig_Corner</th><th style=\"text-align: right;\">  LotConfig_CulDSac</th><th style=\"text-align: right;\">  LotConfig_FR2</th><th style=\"text-align: right;\">  LotConfig_FR3</th><th style=\"text-align: right;\">  LotConfig_Inside</th><th style=\"text-align: right;\">  Neighborhood_Blmngtn</th><th style=\"text-align: right;\">  Neighborhood_Blueste</th><th style=\"text-align: right;\">  Neighborhood_BrDale</th><th style=\"text-align: right;\">  Neighborhood_BrkSide</th><th style=\"text-align: right;\">  Neighborhood_ClearCr</th><th style=\"text-align: right;\">  Neighborhood_CollgCr</th><th style=\"text-align: right;\">  Neighborhood_Crawfor</th><th style=\"text-align: right;\">  Neighborhood_Edwards</th><th style=\"text-align: right;\">  Neighborhood_Gilbert</th><th style=\"text-align: right;\">  Neighborhood_IDOTRR</th><th style=\"text-align: right;\">  Neighborhood_MeadowV</th><th style=\"text-align: right;\">  Neighborhood_Mitchel</th><th style=\"text-align: right;\">  Neighborhood_NAmes</th><th style=\"text-align: right;\">  Neighborhood_NPkVill</th><th style=\"text-align: right;\">  Neighborhood_NWAmes</th><th style=\"text-align: right;\">  Neighborhood_NoRidge</th><th style=\"text-align: right;\">  Neighborhood_NridgHt</th><th style=\"text-align: right;\">  Neighborhood_OldTown</th><th style=\"text-align: right;\">  Neighborhood_SWISU</th><th style=\"text-align: right;\">  Neighborhood_Sawyer</th><th style=\"text-align: right;\">  Neighborhood_SawyerW</th><th style=\"text-align: right;\">  Neighborhood_Somerst</th><th style=\"text-align: right;\">  Neighborhood_StoneBr</th><th style=\"text-align: right;\">  Neighborhood_Timber</th><th style=\"text-align: right;\">  Neighborhood_Veenker</th><th style=\"text-align: right;\">  Condition1_Artery</th><th style=\"text-align: right;\">  Condition1_Feedr</th><th style=\"text-align: right;\">  Condition1_Norm</th><th style=\"text-align: right;\">  Condition1_PosA</th><th style=\"text-align: right;\">  Condition1_PosN</th><th style=\"text-align: right;\">  Condition1_RRAe</th><th style=\"text-align: right;\">  Condition1_RRAn</th><th style=\"text-align: right;\">  Condition1_RRNe</th><th style=\"text-align: right;\">  Condition1_RRNn</th><th style=\"text-align: right;\">  Condition2_Artery</th><th style=\"text-align: right;\">  Condition2_Feedr</th><th style=\"text-align: right;\">  Condition2_Norm</th><th style=\"text-align: right;\">  Condition2_PosA</th><th style=\"text-align: right;\">  Condition2_PosN</th><th style=\"text-align: right;\">  Condition2_RRAe</th><th style=\"text-align: right;\">  Condition2_RRAn</th><th style=\"text-align: right;\">  Condition2_RRNn</th><th style=\"text-align: right;\">  BldgType_1Fam</th><th style=\"text-align: right;\">  BldgType_2fmCon</th><th style=\"text-align: right;\">  BldgType_Duplex</th><th style=\"text-align: right;\">  BldgType_Twnhs</th><th style=\"text-align: right;\">  BldgType_TwnhsE</th><th style=\"text-align: right;\">  HouseStyle_1.5Fin</th><th style=\"text-align: right;\">  HouseStyle_1.5Unf</th><th style=\"text-align: right;\">  HouseStyle_1Story</th><th style=\"text-align: right;\">  HouseStyle_2.5Fin</th><th style=\"text-align: right;\">  HouseStyle_2.5Unf</th><th style=\"text-align: right;\">  HouseStyle_2Story</th><th style=\"text-align: right;\">  HouseStyle_SFoyer</th><th style=\"text-align: right;\">  HouseStyle_SLvl</th><th style=\"text-align: right;\">  RoofStyle_Flat</th><th style=\"text-align: right;\">  RoofStyle_Gable</th><th style=\"text-align: right;\">  RoofStyle_Gambrel</th><th style=\"text-align: right;\">  RoofStyle_Hip</th><th style=\"text-align: right;\">  RoofStyle_Mansard</th><th style=\"text-align: right;\">  RoofStyle_Shed</th><th style=\"text-align: right;\">  RoofMatl_ClyTile</th><th style=\"text-align: right;\">  RoofMatl_CompShg</th><th style=\"text-align: right;\">  RoofMatl_Membran</th><th style=\"text-align: right;\">  RoofMatl_Metal</th><th style=\"text-align: right;\">  RoofMatl_Roll</th><th style=\"text-align: right;\">  RoofMatl_Tar&Grv</th><th style=\"text-align: right;\">  RoofMatl_WdShake</th><th style=\"text-align: right;\">  RoofMatl_WdShngl</th><th style=\"text-align: right;\">  Exterior1st_AsbShng</th><th style=\"text-align: right;\">  Exterior1st_AsphShn</th><th style=\"text-align: right;\">  Exterior1st_BrkComm</th><th style=\"text-align: right;\">  Exterior1st_BrkFace</th><th style=\"text-align: right;\">  Exterior1st_CBlock</th><th style=\"text-align: right;\">  Exterior1st_CemntBd</th><th style=\"text-align: right;\">  Exterior1st_HdBoard</th><th style=\"text-align: right;\">  Exterior1st_ImStucc</th><th style=\"text-align: right;\">  Exterior1st_MetalSd</th><th style=\"text-align: right;\">  Exterior1st_Plywood</th><th style=\"text-align: right;\">  Exterior1st_Stone</th><th style=\"text-align: right;\">  Exterior1st_Stucco</th><th style=\"text-align: right;\">  Exterior1st_VinylSd</th><th style=\"text-align: right;\">  Exterior1st_Wd Sdng</th><th style=\"text-align: right;\">  Exterior1st_WdShing</th><th style=\"text-align: right;\">  Exterior2nd_AsbShng</th><th style=\"text-align: right;\">  Exterior2nd_AsphShn</th><th style=\"text-align: right;\">  Exterior2nd_Brk Cmn</th><th style=\"text-align: right;\">  Exterior2nd_BrkFace</th><th style=\"text-align: right;\">  Exterior2nd_CBlock</th><th style=\"text-align: right;\">  Exterior2nd_CmentBd</th><th style=\"text-align: right;\">  Exterior2nd_HdBoard</th><th style=\"text-align: right;\">  Exterior2nd_ImStucc</th><th style=\"text-align: right;\">  Exterior2nd_MetalSd</th><th style=\"text-align: right;\">  Exterior2nd_Other</th><th style=\"text-align: right;\">  Exterior2nd_Plywood</th><th style=\"text-align: right;\">  Exterior2nd_Stone</th><th style=\"text-align: right;\">  Exterior2nd_Stucco</th><th style=\"text-align: right;\">  Exterior2nd_VinylSd</th><th style=\"text-align: right;\">  Exterior2nd_Wd Sdng</th><th style=\"text-align: right;\">  Exterior2nd_Wd Shng</th><th style=\"text-align: right;\">  MasVnrType_BrkCmn</th><th style=\"text-align: right;\">  MasVnrType_BrkFace</th><th style=\"text-align: right;\">  MasVnrType_None</th><th style=\"text-align: right;\">  MasVnrType_Stone</th><th style=\"text-align: right;\">  Foundation_BrkTil</th><th style=\"text-align: right;\">  Foundation_CBlock</th><th style=\"text-align: right;\">  Foundation_PConc</th><th style=\"text-align: right;\">  Foundation_Slab</th><th style=\"text-align: right;\">  Foundation_Stone</th><th style=\"text-align: right;\">  Foundation_Wood</th><th style=\"text-align: right;\">  Heating_Floor</th><th style=\"text-align: right;\">  Heating_GasA</th><th style=\"text-align: right;\">  Heating_GasW</th><th style=\"text-align: right;\">  Heating_Grav</th><th style=\"text-align: right;\">  Heating_OthW</th><th style=\"text-align: right;\">  Heating_Wall</th><th style=\"text-align: right;\">  Electrical_FuseA</th><th style=\"text-align: right;\">  Electrical_FuseF</th><th style=\"text-align: right;\">  Electrical_FuseP</th><th style=\"text-align: right;\">  Electrical_Mix</th><th style=\"text-align: right;\">  Electrical_SBrkr</th><th style=\"text-align: right;\">  GarageType_2Types</th><th style=\"text-align: right;\">  GarageType_Attchd</th><th style=\"text-align: right;\">  GarageType_Basment</th><th style=\"text-align: right;\">  GarageType_BuiltIn</th><th style=\"text-align: right;\">  GarageType_CarPort</th><th style=\"text-align: right;\">  GarageType_Detchd</th><th style=\"text-align: right;\">  GarageType_NoApp</th><th style=\"text-align: right;\">  Fence_GdPrv</th><th style=\"text-align: right;\">  Fence_GdWo</th><th style=\"text-align: right;\">  Fence_MnPrv</th><th style=\"text-align: right;\">  Fence_MnWw</th><th style=\"text-align: right;\">  Fence_NoApp</th><th style=\"text-align: right;\">  MiscFeature_Gar2</th><th style=\"text-align: right;\">  MiscFeature_NoApp</th><th style=\"text-align: right;\">  MiscFeature_Othr</th><th style=\"text-align: right;\">  MiscFeature_Shed</th><th style=\"text-align: right;\">  MiscFeature_TenC</th><th style=\"text-align: right;\">  SaleType_COD</th><th style=\"text-align: right;\">  SaleType_CWD</th><th style=\"text-align: right;\">  SaleType_Con</th><th style=\"text-align: right;\">  SaleType_ConLD</th><th style=\"text-align: right;\">  SaleType_ConLI</th><th style=\"text-align: right;\">  SaleType_ConLw</th><th style=\"text-align: right;\">  SaleType_New</th><th style=\"text-align: right;\">  SaleType_Oth</th><th style=\"text-align: right;\">  SaleType_WD</th><th style=\"text-align: right;\">  SaleCondition_Abnorml</th><th style=\"text-align: right;\">  SaleCondition_AdjLand</th><th style=\"text-align: right;\">  SaleCondition_Alloca</th><th style=\"text-align: right;\">  SaleCondition_Family</th><th style=\"text-align: right;\">  SaleCondition_Normal</th><th style=\"text-align: right;\">  SaleCondition_Partial</th></tr>\n",
       "</thead>\n",
       "<tbody>\n",
       "<tr><td style=\"text-align: right;\">   1</td><td style=\"text-align: right;\">           65</td><td style=\"text-align: right;\">     8450</td><td style=\"text-align: right;\">       1</td><td style=\"text-align: right;\">          4</td><td style=\"text-align: right;\">          1</td><td style=\"text-align: right;\">            7</td><td style=\"text-align: right;\">            5</td><td style=\"text-align: right;\">       2003</td><td style=\"text-align: right;\">          2003</td><td style=\"text-align: right;\">         196</td><td style=\"text-align: right;\">          4</td><td style=\"text-align: right;\">          3</td><td style=\"text-align: right;\">         4</td><td style=\"text-align: right;\">         3</td><td style=\"text-align: right;\">             1</td><td style=\"text-align: right;\">             6</td><td style=\"text-align: right;\">         706</td><td style=\"text-align: right;\">             1</td><td style=\"text-align: right;\">           0</td><td style=\"text-align: right;\">        150</td><td style=\"text-align: right;\">          856</td><td style=\"text-align: right;\">          5</td><td style=\"text-align: right;\">           1</td><td style=\"text-align: right;\">        856</td><td style=\"text-align: right;\">        854</td><td style=\"text-align: right;\">             0</td><td style=\"text-align: right;\">       1710</td><td style=\"text-align: right;\">             1</td><td style=\"text-align: right;\">             0</td><td style=\"text-align: right;\">         2</td><td style=\"text-align: right;\">         1</td><td style=\"text-align: right;\">             3</td><td style=\"text-align: right;\">             1</td><td style=\"text-align: right;\">            4</td><td style=\"text-align: right;\">             8</td><td style=\"text-align: right;\">           5</td><td style=\"text-align: right;\">           0</td><td style=\"text-align: right;\">            0</td><td style=\"text-align: right;\">            3</td><td style=\"text-align: right;\">             2</td><td style=\"text-align: right;\">           2</td><td style=\"text-align: right;\">         548</td><td style=\"text-align: right;\">           3</td><td style=\"text-align: right;\">           3</td><td style=\"text-align: right;\">           3</td><td style=\"text-align: right;\">           0</td><td style=\"text-align: right;\">           61</td><td style=\"text-align: right;\">              0</td><td style=\"text-align: right;\">           0</td><td style=\"text-align: right;\">            0</td><td style=\"text-align: right;\">         0</td><td style=\"text-align: right;\">       0</td><td style=\"text-align: right;\">        0</td><td style=\"text-align: right;\">       2</td><td style=\"text-align: right;\">    2008</td><td style=\"text-align: right;\">    12.2477</td><td style=\"text-align: right;\">                 0</td><td style=\"text-align: right;\">            0</td><td style=\"text-align: right;\">            0</td><td style=\"text-align: right;\">            1</td><td style=\"text-align: right;\">            0</td><td style=\"text-align: right;\">           0</td><td style=\"text-align: right;\">            1</td><td style=\"text-align: right;\">           0</td><td style=\"text-align: right;\">             0</td><td style=\"text-align: right;\">             0</td><td style=\"text-align: right;\">             0</td><td style=\"text-align: right;\">             1</td><td style=\"text-align: right;\">                0</td><td style=\"text-align: right;\">                0</td><td style=\"text-align: right;\">                0</td><td style=\"text-align: right;\">                1</td><td style=\"text-align: right;\">                 0</td><td style=\"text-align: right;\">                  0</td><td style=\"text-align: right;\">              0</td><td style=\"text-align: right;\">              0</td><td style=\"text-align: right;\">                 1</td><td style=\"text-align: right;\">                     0</td><td style=\"text-align: right;\">                     0</td><td style=\"text-align: right;\">                    0</td><td style=\"text-align: right;\">                     0</td><td style=\"text-align: right;\">                     0</td><td style=\"text-align: right;\">                     1</td><td style=\"text-align: right;\">                     0</td><td style=\"text-align: right;\">                     0</td><td style=\"text-align: right;\">                     0</td><td style=\"text-align: right;\">                    0</td><td style=\"text-align: right;\">                     0</td><td style=\"text-align: right;\">                     0</td><td style=\"text-align: right;\">                   0</td><td style=\"text-align: right;\">                     0</td><td style=\"text-align: right;\">                    0</td><td style=\"text-align: right;\">                     0</td><td style=\"text-align: right;\">                     0</td><td style=\"text-align: right;\">                     0</td><td style=\"text-align: right;\">                   0</td><td style=\"text-align: right;\">                    0</td><td style=\"text-align: right;\">                     0</td><td style=\"text-align: right;\">                     0</td><td style=\"text-align: right;\">                     0</td><td style=\"text-align: right;\">                    0</td><td style=\"text-align: right;\">                     0</td><td style=\"text-align: right;\">                  0</td><td style=\"text-align: right;\">                 0</td><td style=\"text-align: right;\">                1</td><td style=\"text-align: right;\">                0</td><td style=\"text-align: right;\">                0</td><td style=\"text-align: right;\">                0</td><td style=\"text-align: right;\">                0</td><td style=\"text-align: right;\">                0</td><td style=\"text-align: right;\">                0</td><td style=\"text-align: right;\">                  0</td><td style=\"text-align: right;\">                 0</td><td style=\"text-align: right;\">                1</td><td style=\"text-align: right;\">                0</td><td style=\"text-align: right;\">                0</td><td style=\"text-align: right;\">                0</td><td style=\"text-align: right;\">                0</td><td style=\"text-align: right;\">                0</td><td style=\"text-align: right;\">              1</td><td style=\"text-align: right;\">                0</td><td style=\"text-align: right;\">                0</td><td style=\"text-align: right;\">               0</td><td style=\"text-align: right;\">                0</td><td style=\"text-align: right;\">                  0</td><td style=\"text-align: right;\">                  0</td><td style=\"text-align: right;\">                  0</td><td style=\"text-align: right;\">                  0</td><td style=\"text-align: right;\">                  0</td><td style=\"text-align: right;\">                  1</td><td style=\"text-align: right;\">                  0</td><td style=\"text-align: right;\">                0</td><td style=\"text-align: right;\">               0</td><td style=\"text-align: right;\">                1</td><td style=\"text-align: right;\">                  0</td><td style=\"text-align: right;\">              0</td><td style=\"text-align: right;\">                  0</td><td style=\"text-align: right;\">               0</td><td style=\"text-align: right;\">                 0</td><td style=\"text-align: right;\">                 1</td><td style=\"text-align: right;\">                 0</td><td style=\"text-align: right;\">               0</td><td style=\"text-align: right;\">              0</td><td style=\"text-align: right;\">                 0</td><td style=\"text-align: right;\">                 0</td><td style=\"text-align: right;\">                 0</td><td style=\"text-align: right;\">                    0</td><td style=\"text-align: right;\">                    0</td><td style=\"text-align: right;\">                    0</td><td style=\"text-align: right;\">                    0</td><td style=\"text-align: right;\">                   0</td><td style=\"text-align: right;\">                    0</td><td style=\"text-align: right;\">                    0</td><td style=\"text-align: right;\">                    0</td><td style=\"text-align: right;\">                    0</td><td style=\"text-align: right;\">                    0</td><td style=\"text-align: right;\">                  0</td><td style=\"text-align: right;\">                   0</td><td style=\"text-align: right;\">                    1</td><td style=\"text-align: right;\">                    0</td><td style=\"text-align: right;\">                    0</td><td style=\"text-align: right;\">                    0</td><td style=\"text-align: right;\">                    0</td><td style=\"text-align: right;\">                    0</td><td style=\"text-align: right;\">                    0</td><td style=\"text-align: right;\">                   0</td><td style=\"text-align: right;\">                    0</td><td style=\"text-align: right;\">                    0</td><td style=\"text-align: right;\">                    0</td><td style=\"text-align: right;\">                    0</td><td style=\"text-align: right;\">                  0</td><td style=\"text-align: right;\">                    0</td><td style=\"text-align: right;\">                  0</td><td style=\"text-align: right;\">                   0</td><td style=\"text-align: right;\">                    1</td><td style=\"text-align: right;\">                    0</td><td style=\"text-align: right;\">                    0</td><td style=\"text-align: right;\">                  0</td><td style=\"text-align: right;\">                   1</td><td style=\"text-align: right;\">                0</td><td style=\"text-align: right;\">                 0</td><td style=\"text-align: right;\">                  0</td><td style=\"text-align: right;\">                  0</td><td style=\"text-align: right;\">                 1</td><td style=\"text-align: right;\">                0</td><td style=\"text-align: right;\">                 0</td><td style=\"text-align: right;\">                0</td><td style=\"text-align: right;\">              0</td><td style=\"text-align: right;\">             1</td><td style=\"text-align: right;\">             0</td><td style=\"text-align: right;\">             0</td><td style=\"text-align: right;\">             0</td><td style=\"text-align: right;\">             0</td><td style=\"text-align: right;\">                 0</td><td style=\"text-align: right;\">                 0</td><td style=\"text-align: right;\">                 0</td><td style=\"text-align: right;\">               0</td><td style=\"text-align: right;\">                 1</td><td style=\"text-align: right;\">                  0</td><td style=\"text-align: right;\">                  1</td><td style=\"text-align: right;\">                   0</td><td style=\"text-align: right;\">                   0</td><td style=\"text-align: right;\">                   0</td><td style=\"text-align: right;\">                  0</td><td style=\"text-align: right;\">                 0</td><td style=\"text-align: right;\">            0</td><td style=\"text-align: right;\">           0</td><td style=\"text-align: right;\">            0</td><td style=\"text-align: right;\">           0</td><td style=\"text-align: right;\">            1</td><td style=\"text-align: right;\">                 0</td><td style=\"text-align: right;\">                  1</td><td style=\"text-align: right;\">                 0</td><td style=\"text-align: right;\">                 0</td><td style=\"text-align: right;\">                 0</td><td style=\"text-align: right;\">             0</td><td style=\"text-align: right;\">             0</td><td style=\"text-align: right;\">             0</td><td style=\"text-align: right;\">               0</td><td style=\"text-align: right;\">               0</td><td style=\"text-align: right;\">               0</td><td style=\"text-align: right;\">             0</td><td style=\"text-align: right;\">             0</td><td style=\"text-align: right;\">            1</td><td style=\"text-align: right;\">                      0</td><td style=\"text-align: right;\">                      0</td><td style=\"text-align: right;\">                     0</td><td style=\"text-align: right;\">                     0</td><td style=\"text-align: right;\">                     1</td><td style=\"text-align: right;\">                      0</td></tr>\n",
       "<tr><td style=\"text-align: right;\">   2</td><td style=\"text-align: right;\">           80</td><td style=\"text-align: right;\">     9600</td><td style=\"text-align: right;\">       1</td><td style=\"text-align: right;\">          4</td><td style=\"text-align: right;\">          1</td><td style=\"text-align: right;\">            6</td><td style=\"text-align: right;\">            8</td><td style=\"text-align: right;\">       1976</td><td style=\"text-align: right;\">          1976</td><td style=\"text-align: right;\">           0</td><td style=\"text-align: right;\">          3</td><td style=\"text-align: right;\">          3</td><td style=\"text-align: right;\">         4</td><td style=\"text-align: right;\">         3</td><td style=\"text-align: right;\">             4</td><td style=\"text-align: right;\">             5</td><td style=\"text-align: right;\">         978</td><td style=\"text-align: right;\">             1</td><td style=\"text-align: right;\">           0</td><td style=\"text-align: right;\">        284</td><td style=\"text-align: right;\">         1262</td><td style=\"text-align: right;\">          5</td><td style=\"text-align: right;\">           1</td><td style=\"text-align: right;\">       1262</td><td style=\"text-align: right;\">          0</td><td style=\"text-align: right;\">             0</td><td style=\"text-align: right;\">       1262</td><td style=\"text-align: right;\">             0</td><td style=\"text-align: right;\">             1</td><td style=\"text-align: right;\">         2</td><td style=\"text-align: right;\">         0</td><td style=\"text-align: right;\">             3</td><td style=\"text-align: right;\">             1</td><td style=\"text-align: right;\">            3</td><td style=\"text-align: right;\">             6</td><td style=\"text-align: right;\">           5</td><td style=\"text-align: right;\">           1</td><td style=\"text-align: right;\">            3</td><td style=\"text-align: right;\">            2</td><td style=\"text-align: right;\">             2</td><td style=\"text-align: right;\">           2</td><td style=\"text-align: right;\">         460</td><td style=\"text-align: right;\">           3</td><td style=\"text-align: right;\">           3</td><td style=\"text-align: right;\">           3</td><td style=\"text-align: right;\">         298</td><td style=\"text-align: right;\">            0</td><td style=\"text-align: right;\">              0</td><td style=\"text-align: right;\">           0</td><td style=\"text-align: right;\">            0</td><td style=\"text-align: right;\">         0</td><td style=\"text-align: right;\">       0</td><td style=\"text-align: right;\">        0</td><td style=\"text-align: right;\">       5</td><td style=\"text-align: right;\">    2007</td><td style=\"text-align: right;\">    12.109 </td><td style=\"text-align: right;\">                 0</td><td style=\"text-align: right;\">            0</td><td style=\"text-align: right;\">            0</td><td style=\"text-align: right;\">            1</td><td style=\"text-align: right;\">            0</td><td style=\"text-align: right;\">           0</td><td style=\"text-align: right;\">            1</td><td style=\"text-align: right;\">           0</td><td style=\"text-align: right;\">             0</td><td style=\"text-align: right;\">             0</td><td style=\"text-align: right;\">             0</td><td style=\"text-align: right;\">             1</td><td style=\"text-align: right;\">                0</td><td style=\"text-align: right;\">                0</td><td style=\"text-align: right;\">                0</td><td style=\"text-align: right;\">                1</td><td style=\"text-align: right;\">                 0</td><td style=\"text-align: right;\">                  0</td><td style=\"text-align: right;\">              1</td><td style=\"text-align: right;\">              0</td><td style=\"text-align: right;\">                 0</td><td style=\"text-align: right;\">                     0</td><td style=\"text-align: right;\">                     0</td><td style=\"text-align: right;\">                    0</td><td style=\"text-align: right;\">                     0</td><td style=\"text-align: right;\">                     0</td><td style=\"text-align: right;\">                     0</td><td style=\"text-align: right;\">                     0</td><td style=\"text-align: right;\">                     0</td><td style=\"text-align: right;\">                     0</td><td style=\"text-align: right;\">                    0</td><td style=\"text-align: right;\">                     0</td><td style=\"text-align: right;\">                     0</td><td style=\"text-align: right;\">                   0</td><td style=\"text-align: right;\">                     0</td><td style=\"text-align: right;\">                    0</td><td style=\"text-align: right;\">                     0</td><td style=\"text-align: right;\">                     0</td><td style=\"text-align: right;\">                     0</td><td style=\"text-align: right;\">                   0</td><td style=\"text-align: right;\">                    0</td><td style=\"text-align: right;\">                     0</td><td style=\"text-align: right;\">                     0</td><td style=\"text-align: right;\">                     0</td><td style=\"text-align: right;\">                    0</td><td style=\"text-align: right;\">                     1</td><td style=\"text-align: right;\">                  0</td><td style=\"text-align: right;\">                 1</td><td style=\"text-align: right;\">                0</td><td style=\"text-align: right;\">                0</td><td style=\"text-align: right;\">                0</td><td style=\"text-align: right;\">                0</td><td style=\"text-align: right;\">                0</td><td style=\"text-align: right;\">                0</td><td style=\"text-align: right;\">                0</td><td style=\"text-align: right;\">                  0</td><td style=\"text-align: right;\">                 0</td><td style=\"text-align: right;\">                1</td><td style=\"text-align: right;\">                0</td><td style=\"text-align: right;\">                0</td><td style=\"text-align: right;\">                0</td><td style=\"text-align: right;\">                0</td><td style=\"text-align: right;\">                0</td><td style=\"text-align: right;\">              1</td><td style=\"text-align: right;\">                0</td><td style=\"text-align: right;\">                0</td><td style=\"text-align: right;\">               0</td><td style=\"text-align: right;\">                0</td><td style=\"text-align: right;\">                  0</td><td style=\"text-align: right;\">                  0</td><td style=\"text-align: right;\">                  1</td><td style=\"text-align: right;\">                  0</td><td style=\"text-align: right;\">                  0</td><td style=\"text-align: right;\">                  0</td><td style=\"text-align: right;\">                  0</td><td style=\"text-align: right;\">                0</td><td style=\"text-align: right;\">               0</td><td style=\"text-align: right;\">                1</td><td style=\"text-align: right;\">                  0</td><td style=\"text-align: right;\">              0</td><td style=\"text-align: right;\">                  0</td><td style=\"text-align: right;\">               0</td><td style=\"text-align: right;\">                 0</td><td style=\"text-align: right;\">                 1</td><td style=\"text-align: right;\">                 0</td><td style=\"text-align: right;\">               0</td><td style=\"text-align: right;\">              0</td><td style=\"text-align: right;\">                 0</td><td style=\"text-align: right;\">                 0</td><td style=\"text-align: right;\">                 0</td><td style=\"text-align: right;\">                    0</td><td style=\"text-align: right;\">                    0</td><td style=\"text-align: right;\">                    0</td><td style=\"text-align: right;\">                    0</td><td style=\"text-align: right;\">                   0</td><td style=\"text-align: right;\">                    0</td><td style=\"text-align: right;\">                    0</td><td style=\"text-align: right;\">                    0</td><td style=\"text-align: right;\">                    1</td><td style=\"text-align: right;\">                    0</td><td style=\"text-align: right;\">                  0</td><td style=\"text-align: right;\">                   0</td><td style=\"text-align: right;\">                    0</td><td style=\"text-align: right;\">                    0</td><td style=\"text-align: right;\">                    0</td><td style=\"text-align: right;\">                    0</td><td style=\"text-align: right;\">                    0</td><td style=\"text-align: right;\">                    0</td><td style=\"text-align: right;\">                    0</td><td style=\"text-align: right;\">                   0</td><td style=\"text-align: right;\">                    0</td><td style=\"text-align: right;\">                    0</td><td style=\"text-align: right;\">                    0</td><td style=\"text-align: right;\">                    1</td><td style=\"text-align: right;\">                  0</td><td style=\"text-align: right;\">                    0</td><td style=\"text-align: right;\">                  0</td><td style=\"text-align: right;\">                   0</td><td style=\"text-align: right;\">                    0</td><td style=\"text-align: right;\">                    0</td><td style=\"text-align: right;\">                    0</td><td style=\"text-align: right;\">                  0</td><td style=\"text-align: right;\">                   0</td><td style=\"text-align: right;\">                1</td><td style=\"text-align: right;\">                 0</td><td style=\"text-align: right;\">                  0</td><td style=\"text-align: right;\">                  1</td><td style=\"text-align: right;\">                 0</td><td style=\"text-align: right;\">                0</td><td style=\"text-align: right;\">                 0</td><td style=\"text-align: right;\">                0</td><td style=\"text-align: right;\">              0</td><td style=\"text-align: right;\">             1</td><td style=\"text-align: right;\">             0</td><td style=\"text-align: right;\">             0</td><td style=\"text-align: right;\">             0</td><td style=\"text-align: right;\">             0</td><td style=\"text-align: right;\">                 0</td><td style=\"text-align: right;\">                 0</td><td style=\"text-align: right;\">                 0</td><td style=\"text-align: right;\">               0</td><td style=\"text-align: right;\">                 1</td><td style=\"text-align: right;\">                  0</td><td style=\"text-align: right;\">                  1</td><td style=\"text-align: right;\">                   0</td><td style=\"text-align: right;\">                   0</td><td style=\"text-align: right;\">                   0</td><td style=\"text-align: right;\">                  0</td><td style=\"text-align: right;\">                 0</td><td style=\"text-align: right;\">            0</td><td style=\"text-align: right;\">           0</td><td style=\"text-align: right;\">            0</td><td style=\"text-align: right;\">           0</td><td style=\"text-align: right;\">            1</td><td style=\"text-align: right;\">                 0</td><td style=\"text-align: right;\">                  1</td><td style=\"text-align: right;\">                 0</td><td style=\"text-align: right;\">                 0</td><td style=\"text-align: right;\">                 0</td><td style=\"text-align: right;\">             0</td><td style=\"text-align: right;\">             0</td><td style=\"text-align: right;\">             0</td><td style=\"text-align: right;\">               0</td><td style=\"text-align: right;\">               0</td><td style=\"text-align: right;\">               0</td><td style=\"text-align: right;\">             0</td><td style=\"text-align: right;\">             0</td><td style=\"text-align: right;\">            1</td><td style=\"text-align: right;\">                      0</td><td style=\"text-align: right;\">                      0</td><td style=\"text-align: right;\">                     0</td><td style=\"text-align: right;\">                     0</td><td style=\"text-align: right;\">                     1</td><td style=\"text-align: right;\">                      0</td></tr>\n",
       "<tr><td style=\"text-align: right;\">   3</td><td style=\"text-align: right;\">           68</td><td style=\"text-align: right;\">    11250</td><td style=\"text-align: right;\">       1</td><td style=\"text-align: right;\">          4</td><td style=\"text-align: right;\">          1</td><td style=\"text-align: right;\">            7</td><td style=\"text-align: right;\">            5</td><td style=\"text-align: right;\">       2001</td><td style=\"text-align: right;\">          2002</td><td style=\"text-align: right;\">         162</td><td style=\"text-align: right;\">          4</td><td style=\"text-align: right;\">          3</td><td style=\"text-align: right;\">         4</td><td style=\"text-align: right;\">         3</td><td style=\"text-align: right;\">             2</td><td style=\"text-align: right;\">             6</td><td style=\"text-align: right;\">         486</td><td style=\"text-align: right;\">             1</td><td style=\"text-align: right;\">           0</td><td style=\"text-align: right;\">        434</td><td style=\"text-align: right;\">          920</td><td style=\"text-align: right;\">          5</td><td style=\"text-align: right;\">           1</td><td style=\"text-align: right;\">        920</td><td style=\"text-align: right;\">        866</td><td style=\"text-align: right;\">             0</td><td style=\"text-align: right;\">       1786</td><td style=\"text-align: right;\">             1</td><td style=\"text-align: right;\">             0</td><td style=\"text-align: right;\">         2</td><td style=\"text-align: right;\">         1</td><td style=\"text-align: right;\">             3</td><td style=\"text-align: right;\">             1</td><td style=\"text-align: right;\">            4</td><td style=\"text-align: right;\">             6</td><td style=\"text-align: right;\">           5</td><td style=\"text-align: right;\">           1</td><td style=\"text-align: right;\">            3</td><td style=\"text-align: right;\">            3</td><td style=\"text-align: right;\">             2</td><td style=\"text-align: right;\">           2</td><td style=\"text-align: right;\">         608</td><td style=\"text-align: right;\">           3</td><td style=\"text-align: right;\">           3</td><td style=\"text-align: right;\">           3</td><td style=\"text-align: right;\">           0</td><td style=\"text-align: right;\">           42</td><td style=\"text-align: right;\">              0</td><td style=\"text-align: right;\">           0</td><td style=\"text-align: right;\">            0</td><td style=\"text-align: right;\">         0</td><td style=\"text-align: right;\">       0</td><td style=\"text-align: right;\">        0</td><td style=\"text-align: right;\">       9</td><td style=\"text-align: right;\">    2008</td><td style=\"text-align: right;\">    12.3172</td><td style=\"text-align: right;\">                 0</td><td style=\"text-align: right;\">            0</td><td style=\"text-align: right;\">            0</td><td style=\"text-align: right;\">            1</td><td style=\"text-align: right;\">            0</td><td style=\"text-align: right;\">           0</td><td style=\"text-align: right;\">            1</td><td style=\"text-align: right;\">           0</td><td style=\"text-align: right;\">             1</td><td style=\"text-align: right;\">             0</td><td style=\"text-align: right;\">             0</td><td style=\"text-align: right;\">             0</td><td style=\"text-align: right;\">                0</td><td style=\"text-align: right;\">                0</td><td style=\"text-align: right;\">                0</td><td style=\"text-align: right;\">                1</td><td style=\"text-align: right;\">                 0</td><td style=\"text-align: right;\">                  0</td><td style=\"text-align: right;\">              0</td><td style=\"text-align: right;\">              0</td><td style=\"text-align: right;\">                 1</td><td style=\"text-align: right;\">                     0</td><td style=\"text-align: right;\">                     0</td><td style=\"text-align: right;\">                    0</td><td style=\"text-align: right;\">                     0</td><td style=\"text-align: right;\">                     0</td><td style=\"text-align: right;\">                     1</td><td style=\"text-align: right;\">                     0</td><td style=\"text-align: right;\">                     0</td><td style=\"text-align: right;\">                     0</td><td style=\"text-align: right;\">                    0</td><td style=\"text-align: right;\">                     0</td><td style=\"text-align: right;\">                     0</td><td style=\"text-align: right;\">                   0</td><td style=\"text-align: right;\">                     0</td><td style=\"text-align: right;\">                    0</td><td style=\"text-align: right;\">                     0</td><td style=\"text-align: right;\">                     0</td><td style=\"text-align: right;\">                     0</td><td style=\"text-align: right;\">                   0</td><td style=\"text-align: right;\">                    0</td><td style=\"text-align: right;\">                     0</td><td style=\"text-align: right;\">                     0</td><td style=\"text-align: right;\">                     0</td><td style=\"text-align: right;\">                    0</td><td style=\"text-align: right;\">                     0</td><td style=\"text-align: right;\">                  0</td><td style=\"text-align: right;\">                 0</td><td style=\"text-align: right;\">                1</td><td style=\"text-align: right;\">                0</td><td style=\"text-align: right;\">                0</td><td style=\"text-align: right;\">                0</td><td style=\"text-align: right;\">                0</td><td style=\"text-align: right;\">                0</td><td style=\"text-align: right;\">                0</td><td style=\"text-align: right;\">                  0</td><td style=\"text-align: right;\">                 0</td><td style=\"text-align: right;\">                1</td><td style=\"text-align: right;\">                0</td><td style=\"text-align: right;\">                0</td><td style=\"text-align: right;\">                0</td><td style=\"text-align: right;\">                0</td><td style=\"text-align: right;\">                0</td><td style=\"text-align: right;\">              1</td><td style=\"text-align: right;\">                0</td><td style=\"text-align: right;\">                0</td><td style=\"text-align: right;\">               0</td><td style=\"text-align: right;\">                0</td><td style=\"text-align: right;\">                  0</td><td style=\"text-align: right;\">                  0</td><td style=\"text-align: right;\">                  0</td><td style=\"text-align: right;\">                  0</td><td style=\"text-align: right;\">                  0</td><td style=\"text-align: right;\">                  1</td><td style=\"text-align: right;\">                  0</td><td style=\"text-align: right;\">                0</td><td style=\"text-align: right;\">               0</td><td style=\"text-align: right;\">                1</td><td style=\"text-align: right;\">                  0</td><td style=\"text-align: right;\">              0</td><td style=\"text-align: right;\">                  0</td><td style=\"text-align: right;\">               0</td><td style=\"text-align: right;\">                 0</td><td style=\"text-align: right;\">                 1</td><td style=\"text-align: right;\">                 0</td><td style=\"text-align: right;\">               0</td><td style=\"text-align: right;\">              0</td><td style=\"text-align: right;\">                 0</td><td style=\"text-align: right;\">                 0</td><td style=\"text-align: right;\">                 0</td><td style=\"text-align: right;\">                    0</td><td style=\"text-align: right;\">                    0</td><td style=\"text-align: right;\">                    0</td><td style=\"text-align: right;\">                    0</td><td style=\"text-align: right;\">                   0</td><td style=\"text-align: right;\">                    0</td><td style=\"text-align: right;\">                    0</td><td style=\"text-align: right;\">                    0</td><td style=\"text-align: right;\">                    0</td><td style=\"text-align: right;\">                    0</td><td style=\"text-align: right;\">                  0</td><td style=\"text-align: right;\">                   0</td><td style=\"text-align: right;\">                    1</td><td style=\"text-align: right;\">                    0</td><td style=\"text-align: right;\">                    0</td><td style=\"text-align: right;\">                    0</td><td style=\"text-align: right;\">                    0</td><td style=\"text-align: right;\">                    0</td><td style=\"text-align: right;\">                    0</td><td style=\"text-align: right;\">                   0</td><td style=\"text-align: right;\">                    0</td><td style=\"text-align: right;\">                    0</td><td style=\"text-align: right;\">                    0</td><td style=\"text-align: right;\">                    0</td><td style=\"text-align: right;\">                  0</td><td style=\"text-align: right;\">                    0</td><td style=\"text-align: right;\">                  0</td><td style=\"text-align: right;\">                   0</td><td style=\"text-align: right;\">                    1</td><td style=\"text-align: right;\">                    0</td><td style=\"text-align: right;\">                    0</td><td style=\"text-align: right;\">                  0</td><td style=\"text-align: right;\">                   1</td><td style=\"text-align: right;\">                0</td><td style=\"text-align: right;\">                 0</td><td style=\"text-align: right;\">                  0</td><td style=\"text-align: right;\">                  0</td><td style=\"text-align: right;\">                 1</td><td style=\"text-align: right;\">                0</td><td style=\"text-align: right;\">                 0</td><td style=\"text-align: right;\">                0</td><td style=\"text-align: right;\">              0</td><td style=\"text-align: right;\">             1</td><td style=\"text-align: right;\">             0</td><td style=\"text-align: right;\">             0</td><td style=\"text-align: right;\">             0</td><td style=\"text-align: right;\">             0</td><td style=\"text-align: right;\">                 0</td><td style=\"text-align: right;\">                 0</td><td style=\"text-align: right;\">                 0</td><td style=\"text-align: right;\">               0</td><td style=\"text-align: right;\">                 1</td><td style=\"text-align: right;\">                  0</td><td style=\"text-align: right;\">                  1</td><td style=\"text-align: right;\">                   0</td><td style=\"text-align: right;\">                   0</td><td style=\"text-align: right;\">                   0</td><td style=\"text-align: right;\">                  0</td><td style=\"text-align: right;\">                 0</td><td style=\"text-align: right;\">            0</td><td style=\"text-align: right;\">           0</td><td style=\"text-align: right;\">            0</td><td style=\"text-align: right;\">           0</td><td style=\"text-align: right;\">            1</td><td style=\"text-align: right;\">                 0</td><td style=\"text-align: right;\">                  1</td><td style=\"text-align: right;\">                 0</td><td style=\"text-align: right;\">                 0</td><td style=\"text-align: right;\">                 0</td><td style=\"text-align: right;\">             0</td><td style=\"text-align: right;\">             0</td><td style=\"text-align: right;\">             0</td><td style=\"text-align: right;\">               0</td><td style=\"text-align: right;\">               0</td><td style=\"text-align: right;\">               0</td><td style=\"text-align: right;\">             0</td><td style=\"text-align: right;\">             0</td><td style=\"text-align: right;\">            1</td><td style=\"text-align: right;\">                      0</td><td style=\"text-align: right;\">                      0</td><td style=\"text-align: right;\">                     0</td><td style=\"text-align: right;\">                     0</td><td style=\"text-align: right;\">                     1</td><td style=\"text-align: right;\">                      0</td></tr>\n",
       "</tbody>\n",
       "</table>"
      ]
     },
     "metadata": {},
     "output_type": "display_data"
    },
    {
     "name": "stdout",
     "output_type": "stream",
     "text": [
      "\n"
     ]
    }
   ],
   "source": [
    "cols=train.columns\n",
    "train = h2o.H2OFrame(train.as_matrix())\n",
    "train.columns = list(cols)\n",
    "print(train[0:3,:])"
   ]
  },
  {
   "cell_type": "code",
   "execution_count": 18,
   "metadata": {},
   "outputs": [
    {
     "name": "stdout",
     "output_type": "stream",
     "text": [
      "Parse progress: |█████████████████████████████████████████████████████████| 100%\n",
      "Parse progress: |█████████████████████████████████████████████████████████| 100%\n"
     ]
    }
   ],
   "source": [
    "cols=valid.columns\n",
    "valid = h2o.H2OFrame(valid.as_matrix())\n",
    "valid.columns = list(cols)\n",
    "\n",
    "cols=test.columns\n",
    "test = h2o.H2OFrame(test.as_matrix())\n",
    "test.columns = list(cols)"
   ]
  },
  {
   "cell_type": "code",
   "execution_count": 19,
   "metadata": {},
   "outputs": [
    {
     "name": "stdout",
     "output_type": "stream",
     "text": [
      "glm Grid Build progress: |████████████████████████████████████████████████| 100%\n",
      "      alpha                                                    model_ids  \\\n",
      "0    [0.99]  Grid_GLM_py_1_sid_9871_model_python_1530324903060_1_model_4   \n",
      "1    [0.25]  Grid_GLM_py_1_sid_9871_model_python_1530324903060_1_model_1   \n",
      "2    [0.75]  Grid_GLM_py_1_sid_9871_model_python_1530324903060_1_model_3   \n",
      "3     [0.5]  Grid_GLM_py_1_sid_9871_model_python_1530324903060_1_model_2   \n",
      "4    [0.01]  Grid_GLM_py_1_sid_9871_model_python_1530324903060_1_model_0   \n",
      "\n",
      "    residual_deviance  \n",
      "0   7.188858704071223  \n",
      "1   7.191455399183768  \n",
      "2   7.194395439603479  \n",
      "3  7.2000965336032205  \n",
      "4   7.849842979869426  \n",
      "None\n",
      "Model Details\n",
      "=============\n",
      "H2OGeneralizedLinearEstimator :  Generalized Linear Modeling\n",
      "Model Key:  Grid_GLM_py_1_sid_9871_model_python_1530324903060_1_model_4\n",
      "\n",
      "\n",
      "ModelMetricsRegressionGLM: glm\n",
      "** Reported on train data. **\n",
      "\n",
      "MSE: 0.010445804728205934\n",
      "RMSE: 0.10220471969633269\n",
      "MAE: 0.07139058816295306\n",
      "RMSLE: 0.00785150235748484\n",
      "R^2: 0.9283845474360409\n",
      "Mean Residual Deviance: 0.010445804728205934\n",
      "Null degrees of freedom: 1167\n",
      "Residual degrees of freedom: 1099\n",
      "Null deviance: 170.36406928581468\n",
      "Residual deviance: 12.200699922544532\n",
      "AIC: -1873.2556425839402\n",
      "\n",
      "ModelMetricsRegressionGLM: glm\n",
      "** Reported on validation data. **\n",
      "\n",
      "MSE: 0.024619379123531588\n",
      "RMSE: 0.1569056376410089\n",
      "MAE: 0.10841965968454417\n",
      "RMSLE: 0.012648715896513769\n",
      "R^2: 0.8059698169754731\n",
      "Mean Residual Deviance: 0.024619379123531588\n",
      "Null degrees of freedom: 291\n",
      "Residual degrees of freedom: 223\n",
      "Null deviance: 68.78320232047489\n",
      "Residual deviance: 7.188858704071223\n",
      "AIC: -112.97253866966639\n",
      "Scoring History: \n"
     ]
    },
    {
     "data": {
      "text/html": [
       "<div style=\"overflow:auto\"><table style=\"width:50%\"><tr><td><b></b></td>\n",
       "<td><b>timestamp</b></td>\n",
       "<td><b>duration</b></td>\n",
       "<td><b>iteration</b></td>\n",
       "<td><b>lambda</b></td>\n",
       "<td><b>predictors</b></td>\n",
       "<td><b>deviance_train</b></td>\n",
       "<td><b>deviance_test</b></td></tr>\n",
       "<tr><td></td>\n",
       "<td>2018-06-29 22:15:13</td>\n",
       "<td> 0.000 sec</td>\n",
       "<td>1</td>\n",
       "<td>.31E0</td>\n",
       "<td>1</td>\n",
       "<td>0.1458596</td>\n",
       "<td>0.2355589</td></tr>\n",
       "<tr><td></td>\n",
       "<td>2018-06-29 22:15:13</td>\n",
       "<td> 0.010 sec</td>\n",
       "<td>2</td>\n",
       "<td>.3E0</td>\n",
       "<td>2</td>\n",
       "<td>0.1372600</td>\n",
       "<td>0.2223869</td></tr>\n",
       "<tr><td></td>\n",
       "<td>2018-06-29 22:15:13</td>\n",
       "<td> 0.010 sec</td>\n",
       "<td>3</td>\n",
       "<td>.29E0</td>\n",
       "<td>2</td>\n",
       "<td>0.1294210</td>\n",
       "<td>0.2103190</td></tr>\n",
       "<tr><td></td>\n",
       "<td>2018-06-29 22:15:13</td>\n",
       "<td> 0.010 sec</td>\n",
       "<td>4</td>\n",
       "<td>.27E0</td>\n",
       "<td>2</td>\n",
       "<td>0.1222756</td>\n",
       "<td>0.1992605</td></tr>\n",
       "<tr><td></td>\n",
       "<td>2018-06-29 22:15:13</td>\n",
       "<td> 0.010 sec</td>\n",
       "<td>5</td>\n",
       "<td>.26E0</td>\n",
       "<td>2</td>\n",
       "<td>0.1157625</td>\n",
       "<td>0.1891248</td></tr>\n",
       "<tr><td>---</td>\n",
       "<td>---</td>\n",
       "<td>---</td>\n",
       "<td>---</td>\n",
       "<td>---</td>\n",
       "<td>---</td>\n",
       "<td>---</td>\n",
       "<td>---</td></tr>\n",
       "<tr><td></td>\n",
       "<td>2018-06-29 22:15:13</td>\n",
       "<td> 0.391 sec</td>\n",
       "<td>90</td>\n",
       "<td>.5E-2</td>\n",
       "<td>71</td>\n",
       "<td>0.0103523</td>\n",
       "<td>0.0246493</td></tr>\n",
       "<tr><td></td>\n",
       "<td>2018-06-29 22:15:13</td>\n",
       "<td> 0.397 sec</td>\n",
       "<td>91</td>\n",
       "<td>.48E-2</td>\n",
       "<td>72</td>\n",
       "<td>0.0102646</td>\n",
       "<td>0.0247259</td></tr>\n",
       "<tr><td></td>\n",
       "<td>2018-06-29 22:15:13</td>\n",
       "<td> 0.400 sec</td>\n",
       "<td>92</td>\n",
       "<td>.46E-2</td>\n",
       "<td>72</td>\n",
       "<td>0.0101832</td>\n",
       "<td>0.0248228</td></tr>\n",
       "<tr><td></td>\n",
       "<td>2018-06-29 22:15:13</td>\n",
       "<td> 0.405 sec</td>\n",
       "<td>93</td>\n",
       "<td>.44E-2</td>\n",
       "<td>75</td>\n",
       "<td>0.0101062</td>\n",
       "<td>0.0249347</td></tr>\n",
       "<tr><td></td>\n",
       "<td>2018-06-29 22:15:13</td>\n",
       "<td> 0.410 sec</td>\n",
       "<td>94</td>\n",
       "<td>.42E-2</td>\n",
       "<td>79</td>\n",
       "<td>0.0100286</td>\n",
       "<td>0.0250621</td></tr></table></div>"
      ],
      "text/plain": [
       "     timestamp            duration    iteration    lambda    predictors    deviance_train        deviance_test\n",
       "---  -------------------  ----------  -----------  --------  ------------  --------------------  --------------------\n",
       "     2018-06-29 22:15:13  0.000 sec   1            .31E0     1             0.14585964321984599   0.23555888125584554\n",
       "     2018-06-29 22:15:13  0.010 sec   2            .3E0      2             0.13725998542195905   0.22238686751522277\n",
       "     2018-06-29 22:15:13  0.010 sec   3            .29E0     2             0.12942101839779416   0.21031895910251575\n",
       "     2018-06-29 22:15:13  0.010 sec   4            .27E0     2             0.12227559002892358   0.19926045091048927\n",
       "     2018-06-29 22:15:13  0.010 sec   5            .26E0     2             0.11576245864063373   0.18912484854449133\n",
       "---  ---                  ---         ---          ---       ---           ---                   ---\n",
       "     2018-06-29 22:15:13  0.391 sec   90           .5E-2     71            0.010352281180505636  0.02464932857931248\n",
       "     2018-06-29 22:15:13  0.397 sec   91           .48E-2    72            0.010264635598017876  0.024725944582993768\n",
       "     2018-06-29 22:15:13  0.400 sec   92           .46E-2    72            0.01018317674955653   0.024822768050362234\n",
       "     2018-06-29 22:15:13  0.405 sec   93           .44E-2    75            0.010106194511137477  0.024934658533236224\n",
       "     2018-06-29 22:15:13  0.410 sec   94           .42E-2    79            0.01002863626607693   0.02506207724611779"
      ]
     },
     "metadata": {},
     "output_type": "display_data"
    },
    {
     "name": "stdout",
     "output_type": "stream",
     "text": [
      "\n",
      "See the whole table with table.as_data_frame()\n",
      "\n",
      "glm prediction progress: |████████████████████████████████████████████████| 100%\n"
     ]
    },
    {
     "data": {
      "text/html": [
       "<table>\n",
       "<thead>\n",
       "<tr><th style=\"text-align: right;\">  SalePrice</th><th style=\"text-align: right;\">  predict</th></tr>\n",
       "</thead>\n",
       "<tbody>\n",
       "<tr><td style=\"text-align: right;\">    11.8494</td><td style=\"text-align: right;\">  12.1102</td></tr>\n",
       "<tr><td style=\"text-align: right;\">    11.4076</td><td style=\"text-align: right;\">  11.5126</td></tr>\n",
       "<tr><td style=\"text-align: right;\">    11.9767</td><td style=\"text-align: right;\">  11.9137</td></tr>\n",
       "<tr><td style=\"text-align: right;\">    11.8451</td><td style=\"text-align: right;\">  11.7635</td></tr>\n",
       "<tr><td style=\"text-align: right;\">    11.9447</td><td style=\"text-align: right;\">  11.9233</td></tr>\n",
       "<tr><td style=\"text-align: right;\">    11.8115</td><td style=\"text-align: right;\">  11.796 </td></tr>\n",
       "<tr><td style=\"text-align: right;\">    11.1346</td><td style=\"text-align: right;\">  11.27  </td></tr>\n",
       "<tr><td style=\"text-align: right;\">    10.5966</td><td style=\"text-align: right;\">  11.53  </td></tr>\n",
       "<tr><td style=\"text-align: right;\">    11.3145</td><td style=\"text-align: right;\">  11.2929</td></tr>\n",
       "<tr><td style=\"text-align: right;\">    11.7772</td><td style=\"text-align: right;\">  11.792 </td></tr>\n",
       "</tbody>\n",
       "</table>"
      ]
     },
     "metadata": {},
     "output_type": "display_data"
    },
    {
     "name": "stdout",
     "output_type": "stream",
     "text": [
      "\n"
     ]
    },
    {
     "data": {
      "image/png": "[encoded data removed]",
      "text/plain": [
       "<matplotlib.figure.Figure at 0x18fadd57828>"
      ]
     },
     "metadata": {},
     "output_type": "display_data"
    }
   ],
   "source": [
    "glm = glm_grid(cols.drop('Id'), 'SalePrice', train, valid)"
   ]
  },
  {
   "cell_type": "code",
   "execution_count": 20,
   "metadata": {},
   "outputs": [
    {
     "name": "stdout",
     "output_type": "stream",
     "text": [
      "glm prediction progress: |████████████████████████████████████████████████| 100%\n"
     ]
    }
   ],
   "source": [
    "gen_submission(glm,test=test)"
   ]
  },
  {
   "cell_type": "code",
   "execution_count": 21,
   "metadata": {},
   "outputs": [
    {
     "name": "stdout",
     "output_type": "stream",
     "text": [
      "Are you sure you want to shutdown the H2O instance running at http://127.0.0.1:54321 (Y/N)? y\n",
      "H2O session _sid_9871 closed.\n"
     ]
    }
   ],
   "source": [
    "h2o.cluster().shutdown(prompt=True)"
   ]
  }
 ],
 "metadata": {
  "kernelspec": {
   "display_name": "Python 3",
   "language": "python",
   "name": "python3"
  },
  "language_info": {
   "codemirror_mode": {
    "name": "ipython",
    "version": 3
   },
   "file_extension": ".py",
   "mimetype": "text/x-python",
   "name": "python",
   "nbconvert_exporter": "python",
   "pygments_lexer": "ipython3",
   "version": "3.6.4"
  }
 },
 "nbformat": 4,
 "nbformat_minor": 2
}
